{
  "cells": [
    {
      "cell_type": "markdown",
      "metadata": {
        "id": "k6x_sGPQocpw"
      },
      "source": [
        "# Week 3 Assignment: Image Segmentation of Handwritten Digits\n",
        "\n",
        "<img src='https://storage.googleapis.com/tensorflow-3-public/assets/images/m2nist_segmentation.png' alt='m2nist digits'>\n",
        "\n",
        "In this week's assignment, you will build a model that predicts the segmentation masks (pixel-wise label map) of handwritten digits. This model will be trained on the [M2NIST dataset](https://www.kaggle.com/farhanhubble/multimnistm2nist), a multi digit MNIST. If you've done the ungraded lab on the CamVid dataset, then many of the steps here will look familiar.\n",
        "\n",
        "You will build a Convolutional Neural Network (CNN) from scratch for the downsampling path and use a Fully Convolutional Network, FCN-8, to upsample and produce the pixel-wise label map. The model will be evaluated using the intersection over union (IOU) and Dice Score. Finally, you will download the model and upload it to the grader in Coursera to get your score for the assignment."
      ]
    },
    {
      "cell_type": "markdown",
      "metadata": {
        "id": "cnr0kbM0g2LD"
      },
      "source": [
        "## Exercises\n",
        "\n",
        "We've given you some boilerplate code to work with and these are the 5 exercises you need to fill out before you can successfully get the segmentation masks.\n",
        "\n",
        "* [Exercise 1 - Define the Basic Convolution Block](#exercise-1)\n",
        "* [Exercise 2 - Define the Downsampling Path](#exercise-2)\n",
        "* [Exercise 3 - Define the FCN-8 decoder](#exercise-3)\n",
        "* [Exercise 4 - Compile the Model](#exercise-4)\n",
        "* [Exercise 5 - Model Training](#exercise-5)"
      ]
    },
    {
      "cell_type": "markdown",
      "metadata": {
        "id": "MZ3g9dJxSxmN"
      },
      "source": [
        "## Imports\n",
        "\n",
        "As usual, let's start by importing the packages you will use in this lab."
      ]
    },
    {
      "cell_type": "code",
      "execution_count": 1,
      "metadata": {
        "id": "XwoKrHx0FOKO"
      },
      "outputs": [],
      "source": [
        "try:\n",
        "   #%tensorflow_version only exists in Colab.\n",
        "   %tensorflow_version\n",
        "except Exception:\n",
        "  pass"
      ]
    },
    {
      "cell_type": "code",
      "execution_count": 2,
      "metadata": {},
      "outputs": [
        {
          "name": "stdout",
          "output_type": "stream",
          "text": [
            "Requirement already satisfied: tensorflow in c:\\users\\zefin\\anaconda3\\envs\\env_tfx28\\lib\\site-packages (2.8.2)\n",
            "Requirement already satisfied: absl-py>=0.4.0 in c:\\users\\zefin\\anaconda3\\envs\\env_tfx28\\lib\\site-packages (from tensorflow) (1.4.0)\n",
            "Requirement already satisfied: astunparse>=1.6.0 in c:\\users\\zefin\\anaconda3\\envs\\env_tfx28\\lib\\site-packages (from tensorflow) (1.6.3)\n",
            "Requirement already satisfied: flatbuffers>=1.12 in c:\\users\\zefin\\anaconda3\\envs\\env_tfx28\\lib\\site-packages (from tensorflow) (2.0)\n",
            "Requirement already satisfied: gast>=0.2.1 in c:\\users\\zefin\\anaconda3\\envs\\env_tfx28\\lib\\site-packages (from tensorflow) (0.5.3)\n",
            "Requirement already satisfied: google-pasta>=0.1.1 in c:\\users\\zefin\\anaconda3\\envs\\env_tfx28\\lib\\site-packages (from tensorflow) (0.2.0)\n",
            "Requirement already satisfied: h5py>=2.9.0 in c:\\users\\zefin\\anaconda3\\envs\\env_tfx28\\lib\\site-packages (from tensorflow) (3.9.0)\n",
            "Requirement already satisfied: keras-preprocessing>=1.1.1 in c:\\users\\zefin\\anaconda3\\envs\\env_tfx28\\lib\\site-packages (from tensorflow) (1.1.2)\n",
            "Collecting libclang>=9.0.1 (from tensorflow)\n",
            "  Using cached libclang-18.1.1-py2.py3-none-win_amd64.whl.metadata (5.3 kB)\n",
            "Requirement already satisfied: numpy>=1.20 in c:\\users\\zefin\\anaconda3\\envs\\env_tfx28\\lib\\site-packages (from tensorflow) (1.24.3)\n",
            "Requirement already satisfied: opt-einsum>=2.3.2 in c:\\users\\zefin\\anaconda3\\envs\\env_tfx28\\lib\\site-packages (from tensorflow) (3.3.0)\n",
            "Collecting protobuf<3.20,>=3.9.2 (from tensorflow)\n",
            "  Downloading protobuf-3.19.6-cp38-cp38-win_amd64.whl.metadata (807 bytes)\n",
            "Requirement already satisfied: setuptools in c:\\users\\zefin\\anaconda3\\envs\\env_tfx28\\lib\\site-packages (from tensorflow) (68.2.2)\n",
            "Requirement already satisfied: six>=1.12.0 in c:\\users\\zefin\\anaconda3\\envs\\env_tfx28\\lib\\site-packages (from tensorflow) (1.16.0)\n",
            "Requirement already satisfied: termcolor>=1.1.0 in c:\\users\\zefin\\anaconda3\\envs\\env_tfx28\\lib\\site-packages (from tensorflow) (2.1.0)\n",
            "Requirement already satisfied: typing-extensions>=3.6.6 in c:\\users\\zefin\\anaconda3\\envs\\env_tfx28\\lib\\site-packages (from tensorflow) (4.9.0)\n",
            "Requirement already satisfied: wrapt>=1.11.0 in c:\\users\\zefin\\anaconda3\\envs\\env_tfx28\\lib\\site-packages (from tensorflow) (1.14.1)\n",
            "Requirement already satisfied: tensorboard<2.9,>=2.8 in c:\\users\\zefin\\anaconda3\\envs\\env_tfx28\\lib\\site-packages (from tensorflow) (2.8.0)\n",
            "Requirement already satisfied: tensorflow-estimator<2.9,>=2.8 in c:\\users\\zefin\\anaconda3\\envs\\env_tfx28\\lib\\site-packages (from tensorflow) (2.8.0)\n",
            "Requirement already satisfied: keras<2.9,>=2.8.0rc0 in c:\\users\\zefin\\anaconda3\\envs\\env_tfx28\\lib\\site-packages (from tensorflow) (2.8.0)\n",
            "Collecting tensorflow-io-gcs-filesystem>=0.23.1 (from tensorflow)\n",
            "  Downloading tensorflow_io_gcs_filesystem-0.31.0-cp38-cp38-win_amd64.whl.metadata (14 kB)\n",
            "Requirement already satisfied: grpcio<2.0,>=1.24.3 in c:\\users\\zefin\\anaconda3\\envs\\env_tfx28\\lib\\site-packages (from tensorflow) (1.48.2)\n",
            "Requirement already satisfied: wheel<1.0,>=0.23.0 in c:\\users\\zefin\\anaconda3\\envs\\env_tfx28\\lib\\site-packages (from astunparse>=1.6.0->tensorflow) (0.41.2)\n",
            "Requirement already satisfied: google-auth<3,>=1.6.3 in c:\\users\\zefin\\anaconda3\\envs\\env_tfx28\\lib\\site-packages (from tensorboard<2.9,>=2.8->tensorflow) (2.6.0)\n",
            "Requirement already satisfied: google-auth-oauthlib<0.5,>=0.4.1 in c:\\users\\zefin\\anaconda3\\envs\\env_tfx28\\lib\\site-packages (from tensorboard<2.9,>=2.8->tensorflow) (0.4.4)\n",
            "Requirement already satisfied: markdown>=2.6.8 in c:\\users\\zefin\\anaconda3\\envs\\env_tfx28\\lib\\site-packages (from tensorboard<2.9,>=2.8->tensorflow) (3.4.1)\n",
            "Requirement already satisfied: requests<3,>=2.21.0 in c:\\users\\zefin\\anaconda3\\envs\\env_tfx28\\lib\\site-packages (from tensorboard<2.9,>=2.8->tensorflow) (2.31.0)\n",
            "Requirement already satisfied: tensorboard-data-server<0.7.0,>=0.6.0 in c:\\users\\zefin\\anaconda3\\envs\\env_tfx28\\lib\\site-packages (from tensorboard<2.9,>=2.8->tensorflow) (0.6.1)\n",
            "Requirement already satisfied: tensorboard-plugin-wit>=1.6.0 in c:\\users\\zefin\\anaconda3\\envs\\env_tfx28\\lib\\site-packages (from tensorboard<2.9,>=2.8->tensorflow) (1.8.1)\n",
            "Requirement already satisfied: werkzeug>=0.11.15 in c:\\users\\zefin\\anaconda3\\envs\\env_tfx28\\lib\\site-packages (from tensorboard<2.9,>=2.8->tensorflow) (2.3.8)\n",
            "Requirement already satisfied: cachetools<6.0,>=2.0.0 in c:\\users\\zefin\\anaconda3\\envs\\env_tfx28\\lib\\site-packages (from google-auth<3,>=1.6.3->tensorboard<2.9,>=2.8->tensorflow) (4.2.2)\n",
            "Requirement already satisfied: pyasn1-modules>=0.2.1 in c:\\users\\zefin\\anaconda3\\envs\\env_tfx28\\lib\\site-packages (from google-auth<3,>=1.6.3->tensorboard<2.9,>=2.8->tensorflow) (0.2.8)\n",
            "Requirement already satisfied: rsa<5,>=3.1.4 in c:\\users\\zefin\\anaconda3\\envs\\env_tfx28\\lib\\site-packages (from google-auth<3,>=1.6.3->tensorboard<2.9,>=2.8->tensorflow) (4.7.2)\n",
            "Requirement already satisfied: requests-oauthlib>=0.7.0 in c:\\users\\zefin\\anaconda3\\envs\\env_tfx28\\lib\\site-packages (from google-auth-oauthlib<0.5,>=0.4.1->tensorboard<2.9,>=2.8->tensorflow) (1.3.0)\n",
            "Requirement already satisfied: importlib-metadata>=4.4 in c:\\users\\zefin\\anaconda3\\envs\\env_tfx28\\lib\\site-packages (from markdown>=2.6.8->tensorboard<2.9,>=2.8->tensorflow) (7.0.1)\n",
            "Requirement already satisfied: charset-normalizer<4,>=2 in c:\\users\\zefin\\anaconda3\\envs\\env_tfx28\\lib\\site-packages (from requests<3,>=2.21.0->tensorboard<2.9,>=2.8->tensorflow) (2.0.4)\n",
            "Requirement already satisfied: idna<4,>=2.5 in c:\\users\\zefin\\anaconda3\\envs\\env_tfx28\\lib\\site-packages (from requests<3,>=2.21.0->tensorboard<2.9,>=2.8->tensorflow) (3.4)\n",
            "Requirement already satisfied: urllib3<3,>=1.21.1 in c:\\users\\zefin\\anaconda3\\envs\\env_tfx28\\lib\\site-packages (from requests<3,>=2.21.0->tensorboard<2.9,>=2.8->tensorflow) (2.1.0)\n",
            "Requirement already satisfied: certifi>=2017.4.17 in c:\\users\\zefin\\anaconda3\\envs\\env_tfx28\\lib\\site-packages (from requests<3,>=2.21.0->tensorboard<2.9,>=2.8->tensorflow) (2024.2.2)\n",
            "Requirement already satisfied: MarkupSafe>=2.1.1 in c:\\users\\zefin\\anaconda3\\envs\\env_tfx28\\lib\\site-packages (from werkzeug>=0.11.15->tensorboard<2.9,>=2.8->tensorflow) (2.1.3)\n",
            "Requirement already satisfied: zipp>=0.5 in c:\\users\\zefin\\anaconda3\\envs\\env_tfx28\\lib\\site-packages (from importlib-metadata>=4.4->markdown>=2.6.8->tensorboard<2.9,>=2.8->tensorflow) (3.17.0)\n",
            "Requirement already satisfied: pyasn1<0.5.0,>=0.4.6 in c:\\users\\zefin\\anaconda3\\envs\\env_tfx28\\lib\\site-packages (from pyasn1-modules>=0.2.1->google-auth<3,>=1.6.3->tensorboard<2.9,>=2.8->tensorflow) (0.4.8)\n",
            "Requirement already satisfied: oauthlib>=3.0.0 in c:\\users\\zefin\\anaconda3\\envs\\env_tfx28\\lib\\site-packages (from requests-oauthlib>=0.7.0->google-auth-oauthlib<0.5,>=0.4.1->tensorboard<2.9,>=2.8->tensorflow) (3.2.2)\n",
            "Using cached libclang-18.1.1-py2.py3-none-win_amd64.whl (26.4 MB)\n",
            "Downloading protobuf-3.19.6-cp38-cp38-win_amd64.whl (896 kB)\n",
            "   ---------------------------------------- 0.0/896.1 kB ? eta -:--:--\n",
            "   ---------------------- ---------------- 512.0/896.1 kB 10.7 MB/s eta 0:00:01\n",
            "   --------------------------------------  890.9/896.1 kB 11.3 MB/s eta 0:00:01\n",
            "   ---------------------------------------- 896.1/896.1 kB 9.5 MB/s eta 0:00:00\n",
            "Downloading tensorflow_io_gcs_filesystem-0.31.0-cp38-cp38-win_amd64.whl (1.5 MB)\n",
            "   ---------------------------------------- 0.0/1.5 MB ? eta -:--:--\n",
            "   ------------------- -------------------- 0.7/1.5 MB 21.8 MB/s eta 0:00:01\n",
            "   ---------------------------------- ----- 1.3/1.5 MB 16.3 MB/s eta 0:00:01\n",
            "   ---------------------------------------- 1.5/1.5 MB 13.4 MB/s eta 0:00:00\n",
            "Installing collected packages: libclang, tensorflow-io-gcs-filesystem, protobuf\n",
            "  Attempting uninstall: protobuf\n",
            "    Found existing installation: protobuf 3.20.3\n",
            "    Uninstalling protobuf-3.20.3:\n",
            "      Successfully uninstalled protobuf-3.20.3\n",
            "Successfully installed libclang-18.1.1 protobuf-3.19.6 tensorflow-io-gcs-filesystem-0.31.0\n",
            "Collecting tensorflow_datasets\n",
            "  Downloading tensorflow_datasets-4.9.2-py3-none-any.whl.metadata (9.0 kB)\n",
            "Requirement already satisfied: absl-py in c:\\users\\zefin\\anaconda3\\envs\\env_tfx28\\lib\\site-packages (from tensorflow_datasets) (1.4.0)\n",
            "Collecting array-record (from tensorflow_datasets)\n",
            "  Downloading array_record-0.4.0-py38-none-any.whl.metadata (502 bytes)\n",
            "Requirement already satisfied: click in c:\\users\\zefin\\anaconda3\\envs\\env_tfx28\\lib\\site-packages (from tensorflow_datasets) (8.1.7)\n",
            "Collecting dm-tree (from tensorflow_datasets)\n",
            "  Downloading dm_tree-0.1.8-cp38-cp38-win_amd64.whl.metadata (2.0 kB)\n",
            "Collecting etils>=0.9.0 (from etils[enp,epath]>=0.9.0->tensorflow_datasets)\n",
            "  Downloading etils-1.3.0-py3-none-any.whl.metadata (5.5 kB)\n",
            "Requirement already satisfied: numpy in c:\\users\\zefin\\anaconda3\\envs\\env_tfx28\\lib\\site-packages (from tensorflow_datasets) (1.24.3)\n",
            "Collecting promise (from tensorflow_datasets)\n",
            "  Using cached promise-2.3.tar.gz (19 kB)\n",
            "  Preparing metadata (setup.py): started\n",
            "  Preparing metadata (setup.py): finished with status 'done'\n",
            "Collecting protobuf>=3.20 (from tensorflow_datasets)\n",
            "  Downloading protobuf-5.26.1-cp38-cp38-win_amd64.whl.metadata (592 bytes)\n",
            "Requirement already satisfied: psutil in c:\\users\\zefin\\anaconda3\\envs\\env_tfx28\\lib\\site-packages (from tensorflow_datasets) (5.9.0)\n",
            "Requirement already satisfied: requests>=2.19.0 in c:\\users\\zefin\\anaconda3\\envs\\env_tfx28\\lib\\site-packages (from tensorflow_datasets) (2.31.0)\n",
            "Collecting tensorflow-metadata (from tensorflow_datasets)\n",
            "  Using cached tensorflow_metadata-1.14.0-py3-none-any.whl.metadata (2.1 kB)\n",
            "Requirement already satisfied: termcolor in c:\\users\\zefin\\anaconda3\\envs\\env_tfx28\\lib\\site-packages (from tensorflow_datasets) (2.1.0)\n",
            "Collecting toml (from tensorflow_datasets)\n",
            "  Downloading toml-0.10.2-py2.py3-none-any.whl.metadata (7.1 kB)\n",
            "Collecting tqdm (from tensorflow_datasets)\n",
            "  Using cached tqdm-4.66.2-py3-none-any.whl.metadata (57 kB)\n",
            "Requirement already satisfied: wrapt in c:\\users\\zefin\\anaconda3\\envs\\env_tfx28\\lib\\site-packages (from tensorflow_datasets) (1.14.1)\n",
            "Collecting importlib-resources (from tensorflow_datasets)\n",
            "  Using cached importlib_resources-6.4.0-py3-none-any.whl.metadata (3.9 kB)\n",
            "Requirement already satisfied: typing_extensions in c:\\users\\zefin\\anaconda3\\envs\\env_tfx28\\lib\\site-packages (from etils[enp,epath]>=0.9.0->tensorflow_datasets) (4.9.0)\n",
            "Requirement already satisfied: zipp in c:\\users\\zefin\\anaconda3\\envs\\env_tfx28\\lib\\site-packages (from etils[enp,epath]>=0.9.0->tensorflow_datasets) (3.17.0)\n",
            "Requirement already satisfied: charset-normalizer<4,>=2 in c:\\users\\zefin\\anaconda3\\envs\\env_tfx28\\lib\\site-packages (from requests>=2.19.0->tensorflow_datasets) (2.0.4)\n",
            "Requirement already satisfied: idna<4,>=2.5 in c:\\users\\zefin\\anaconda3\\envs\\env_tfx28\\lib\\site-packages (from requests>=2.19.0->tensorflow_datasets) (3.4)\n",
            "Requirement already satisfied: urllib3<3,>=1.21.1 in c:\\users\\zefin\\anaconda3\\envs\\env_tfx28\\lib\\site-packages (from requests>=2.19.0->tensorflow_datasets) (2.1.0)\n",
            "Requirement already satisfied: certifi>=2017.4.17 in c:\\users\\zefin\\anaconda3\\envs\\env_tfx28\\lib\\site-packages (from requests>=2.19.0->tensorflow_datasets) (2024.2.2)\n",
            "Requirement already satisfied: colorama in c:\\users\\zefin\\anaconda3\\envs\\env_tfx28\\lib\\site-packages (from click->tensorflow_datasets) (0.4.6)\n",
            "Requirement already satisfied: six in c:\\users\\zefin\\anaconda3\\envs\\env_tfx28\\lib\\site-packages (from promise->tensorflow_datasets) (1.16.0)\n",
            "Collecting googleapis-common-protos<2,>=1.52.0 (from tensorflow-metadata->tensorflow_datasets)\n",
            "  Using cached googleapis_common_protos-1.63.0-py2.py3-none-any.whl.metadata (1.5 kB)\n",
            "Collecting protobuf>=3.20 (from tensorflow_datasets)\n",
            "  Downloading protobuf-3.20.3-cp38-cp38-win_amd64.whl.metadata (699 bytes)\n",
            "Downloading tensorflow_datasets-4.9.2-py3-none-any.whl (5.4 MB)\n",
            "   ---------------------------------------- 0.0/5.4 MB ? eta -:--:--\n",
            "   -- ------------------------------------- 0.4/5.4 MB 8.1 MB/s eta 0:00:01\n",
            "   ------- -------------------------------- 1.0/5.4 MB 10.4 MB/s eta 0:00:01\n",
            "   ----------- ---------------------------- 1.5/5.4 MB 11.9 MB/s eta 0:00:01\n",
            "   --------------- ------------------------ 2.1/5.4 MB 11.0 MB/s eta 0:00:01\n",
            "   ------------------- -------------------- 2.7/5.4 MB 11.3 MB/s eta 0:00:01\n",
            "   ----------------------- ---------------- 3.2/5.4 MB 11.4 MB/s eta 0:00:01\n",
            "   --------------------------- ------------ 3.7/5.4 MB 11.9 MB/s eta 0:00:01\n",
            "   -------------------------------- ------- 4.4/5.4 MB 11.7 MB/s eta 0:00:01\n",
            "   ------------------------------------ --- 5.0/5.4 MB 11.7 MB/s eta 0:00:01\n",
            "   ---------------------------------------  5.4/5.4 MB 11.5 MB/s eta 0:00:01\n",
            "   ---------------------------------------- 5.4/5.4 MB 10.8 MB/s eta 0:00:00\n",
            "Downloading etils-1.3.0-py3-none-any.whl (126 kB)\n",
            "   ---------------------------------------- 0.0/126.4 kB ? eta -:--:--\n",
            "   ---------------------------------------- 126.4/126.4 kB 7.3 MB/s eta 0:00:00\n",
            "Downloading array_record-0.4.0-py38-none-any.whl (3.0 MB)\n",
            "   ---------------------------------------- 0.0/3.0 MB ? eta -:--:--\n",
            "   ------- -------------------------------- 0.6/3.0 MB 11.8 MB/s eta 0:00:01\n",
            "   ------------- -------------------------- 1.0/3.0 MB 10.8 MB/s eta 0:00:01\n",
            "   --------------------- ------------------ 1.6/3.0 MB 11.3 MB/s eta 0:00:01\n",
            "   ---------------------------- ----------- 2.1/3.0 MB 11.3 MB/s eta 0:00:01\n",
            "   ---------------------------------- ----- 2.6/3.0 MB 11.7 MB/s eta 0:00:01\n",
            "   ---------------------------------------  3.0/3.0 MB 11.3 MB/s eta 0:00:01\n",
            "   ---------------------------------------- 3.0/3.0 MB 10.7 MB/s eta 0:00:00\n",
            "Downloading dm_tree-0.1.8-cp38-cp38-win_amd64.whl (101 kB)\n",
            "   ---------------------------------------- 0.0/101.4 kB ? eta -:--:--\n",
            "   ---------------------------------------- 101.4/101.4 kB 5.7 MB/s eta 0:00:00\n",
            "Using cached importlib_resources-6.4.0-py3-none-any.whl (38 kB)\n",
            "Using cached tensorflow_metadata-1.14.0-py3-none-any.whl (28 kB)\n",
            "Downloading protobuf-3.20.3-cp38-cp38-win_amd64.whl (904 kB)\n",
            "   ---------------------------------------- 0.0/904.4 kB ? eta -:--:--\n",
            "   --------------------------------- ----- 768.0/904.4 kB 23.7 MB/s eta 0:00:01\n",
            "   --------------------------------------  901.1/904.4 kB 19.0 MB/s eta 0:00:01\n",
            "   ---------------------------------------- 904.4/904.4 kB 8.1 MB/s eta 0:00:00\n",
            "Downloading toml-0.10.2-py2.py3-none-any.whl (16 kB)\n",
            "Using cached tqdm-4.66.2-py3-none-any.whl (78 kB)\n",
            "Using cached googleapis_common_protos-1.63.0-py2.py3-none-any.whl (229 kB)\n",
            "Building wheels for collected packages: promise\n",
            "  Building wheel for promise (setup.py): started\n",
            "  Building wheel for promise (setup.py): finished with status 'done'\n",
            "  Created wheel for promise: filename=promise-2.3-py3-none-any.whl size=21545 sha256=65a24356ed0dab0f3c3719d164ae75474d1353767f43c98fe347515da6d01324\n",
            "  Stored in directory: c:\\users\\zefin\\appdata\\local\\pip\\cache\\wheels\\54\\aa\\01\\724885182f93150035a2a91bce34a12877e8067a97baaf5dc8\n",
            "Successfully built promise\n",
            "Installing collected packages: dm-tree, tqdm, toml, protobuf, promise, importlib-resources, etils, googleapis-common-protos, tensorflow-metadata, array-record, tensorflow_datasets\n",
            "  Attempting uninstall: protobuf\n",
            "    Found existing installation: protobuf 3.19.6\n",
            "    Uninstalling protobuf-3.19.6:\n",
            "      Successfully uninstalled protobuf-3.19.6\n",
            "Successfully installed array-record-0.4.0 dm-tree-0.1.8 etils-1.3.0 googleapis-common-protos-1.63.0 importlib-resources-6.4.0 promise-2.3 protobuf-3.20.3 tensorflow-metadata-1.14.0 tensorflow_datasets-4.9.2 toml-0.10.2 tqdm-4.66.2\n"
          ]
        },
        {
          "name": "stderr",
          "output_type": "stream",
          "text": [
            "ERROR: pip's dependency resolver does not currently take into account all the packages that are installed. This behaviour is the source of the following dependency conflicts.\n",
            "tensorflow 2.8.2 requires protobuf<3.20,>=3.9.2, but you have protobuf 3.20.3 which is incompatible.\n"
          ]
        }
      ],
      "source": [
        "!pip install tensorflow\n",
        "!pip install tensorflow_datasets"
      ]
    },
    {
      "cell_type": "code",
      "execution_count": 4,
      "metadata": {},
      "outputs": [
        {
          "name": "stdout",
          "output_type": "stream",
          "text": [
            "Collecting pillow\n",
            "  Downloading pillow-10.3.0-cp38-cp38-win_amd64.whl.metadata (9.4 kB)\n",
            "Downloading pillow-10.3.0-cp38-cp38-win_amd64.whl (2.5 MB)\n",
            "   ---------------------------------------- 0.0/2.5 MB ? eta -:--:--\n",
            "   - -------------------------------------- 0.1/2.5 MB 3.5 MB/s eta 0:00:01\n",
            "   ---- ----------------------------------- 0.3/2.5 MB 2.4 MB/s eta 0:00:01\n",
            "   ----- ---------------------------------- 0.4/2.5 MB 2.5 MB/s eta 0:00:01\n",
            "   ------- -------------------------------- 0.5/2.5 MB 2.3 MB/s eta 0:00:01\n",
            "   --------- ------------------------------ 0.6/2.5 MB 2.5 MB/s eta 0:00:01\n",
            "   ------------ --------------------------- 0.8/2.5 MB 2.8 MB/s eta 0:00:01\n",
            "   ------------- -------------------------- 0.8/2.5 MB 2.8 MB/s eta 0:00:01\n",
            "   ------------- -------------------------- 0.8/2.5 MB 2.8 MB/s eta 0:00:01\n",
            "   ---------------- ----------------------- 1.1/2.5 MB 2.5 MB/s eta 0:00:01\n",
            "   ----------------- ---------------------- 1.1/2.5 MB 2.5 MB/s eta 0:00:01\n",
            "   ------------------- -------------------- 1.2/2.5 MB 2.4 MB/s eta 0:00:01\n",
            "   --------------------- ------------------ 1.4/2.5 MB 2.4 MB/s eta 0:00:01\n",
            "   ---------------------- ----------------- 1.4/2.5 MB 2.4 MB/s eta 0:00:01\n",
            "   ----------------------- ---------------- 1.5/2.5 MB 2.3 MB/s eta 0:00:01\n",
            "   ------------------------- -------------- 1.6/2.5 MB 2.3 MB/s eta 0:00:01\n",
            "   --------------------------- ------------ 1.8/2.5 MB 2.3 MB/s eta 0:00:01\n",
            "   ------------------------------ --------- 1.9/2.5 MB 2.3 MB/s eta 0:00:01\n",
            "   -------------------------------- ------- 2.1/2.5 MB 2.4 MB/s eta 0:00:01\n",
            "   ----------------------------------- ---- 2.2/2.5 MB 2.4 MB/s eta 0:00:01\n",
            "   ------------------------------------- -- 2.4/2.5 MB 2.4 MB/s eta 0:00:01\n",
            "   ---------------------------------------- 2.5/2.5 MB 2.4 MB/s eta 0:00:00\n",
            "Installing collected packages: pillow\n",
            "Successfully installed pillow-10.3.0\n",
            "Note: you may need to restart the kernel to use updated packages.\n"
          ]
        }
      ],
      "source": [
        "pip install pillow"
      ]
    },
    {
      "cell_type": "code",
      "execution_count": 6,
      "metadata": {},
      "outputs": [
        {
          "name": "stdout",
          "output_type": "stream",
          "text": [
            "Collecting matplotlib\n",
            "  Downloading matplotlib-3.7.5-cp38-cp38-win_amd64.whl.metadata (5.8 kB)\n",
            "Collecting contourpy>=1.0.1 (from matplotlib)\n",
            "  Downloading contourpy-1.1.1-cp38-cp38-win_amd64.whl.metadata (5.9 kB)\n",
            "Collecting cycler>=0.10 (from matplotlib)\n",
            "  Using cached cycler-0.12.1-py3-none-any.whl.metadata (3.8 kB)\n",
            "Collecting fonttools>=4.22.0 (from matplotlib)\n",
            "  Downloading fonttools-4.51.0-cp38-cp38-win_amd64.whl.metadata (162 kB)\n",
            "     ---------------------------------------- 0.0/162.8 kB ? eta -:--:--\n",
            "     ------------- ----------------------- 61.4/162.8 kB 469.7 kB/s eta 0:00:01\n",
            "     ----------------------------------- -- 153.6/162.8 kB 1.0 MB/s eta 0:00:01\n",
            "     ------------------------------------ 162.8/162.8 kB 886.7 kB/s eta 0:00:00\n",
            "Collecting kiwisolver>=1.0.1 (from matplotlib)\n",
            "  Downloading kiwisolver-1.4.5-cp38-cp38-win_amd64.whl.metadata (6.5 kB)\n",
            "Requirement already satisfied: numpy<2,>=1.20 in c:\\users\\zefin\\anaconda3\\envs\\env_tfx28\\lib\\site-packages (from matplotlib) (1.24.3)\n",
            "Requirement already satisfied: packaging>=20.0 in c:\\users\\zefin\\anaconda3\\envs\\env_tfx28\\lib\\site-packages (from matplotlib) (23.2)\n",
            "Requirement already satisfied: pillow>=6.2.0 in c:\\users\\zefin\\anaconda3\\envs\\env_tfx28\\lib\\site-packages (from matplotlib) (10.3.0)\n",
            "Collecting pyparsing>=2.3.1 (from matplotlib)\n",
            "  Using cached pyparsing-3.1.2-py3-none-any.whl.metadata (5.1 kB)\n",
            "Requirement already satisfied: python-dateutil>=2.7 in c:\\users\\zefin\\anaconda3\\envs\\env_tfx28\\lib\\site-packages (from matplotlib) (2.9.0)\n",
            "Requirement already satisfied: importlib-resources>=3.2.0 in c:\\users\\zefin\\anaconda3\\envs\\env_tfx28\\lib\\site-packages (from matplotlib) (6.4.0)\n",
            "Requirement already satisfied: zipp>=3.1.0 in c:\\users\\zefin\\anaconda3\\envs\\env_tfx28\\lib\\site-packages (from importlib-resources>=3.2.0->matplotlib) (3.17.0)\n",
            "Requirement already satisfied: six>=1.5 in c:\\users\\zefin\\anaconda3\\envs\\env_tfx28\\lib\\site-packages (from python-dateutil>=2.7->matplotlib) (1.16.0)\n",
            "Downloading matplotlib-3.7.5-cp38-cp38-win_amd64.whl (7.5 MB)\n",
            "   ---------------------------------------- 0.0/7.5 MB ? eta -:--:--\n",
            "    --------------------------------------- 0.1/7.5 MB 4.2 MB/s eta 0:00:02\n",
            "   - -------------------------------------- 0.3/7.5 MB 3.2 MB/s eta 0:00:03\n",
            "   -- ------------------------------------- 0.4/7.5 MB 3.9 MB/s eta 0:00:02\n",
            "   --- ------------------------------------ 0.6/7.5 MB 3.8 MB/s eta 0:00:02\n",
            "   ---- ----------------------------------- 0.8/7.5 MB 3.5 MB/s eta 0:00:02\n",
            "   ---- ----------------------------------- 0.9/7.5 MB 3.3 MB/s eta 0:00:03\n",
            "   ----- ---------------------------------- 1.1/7.5 MB 3.4 MB/s eta 0:00:02\n",
            "   ------ --------------------------------- 1.3/7.5 MB 3.5 MB/s eta 0:00:02\n",
            "   ------- -------------------------------- 1.4/7.5 MB 3.4 MB/s eta 0:00:02\n",
            "   -------- ------------------------------- 1.6/7.5 MB 3.5 MB/s eta 0:00:02\n",
            "   -------- ------------------------------- 1.7/7.5 MB 3.4 MB/s eta 0:00:02\n",
            "   ---------- ----------------------------- 1.9/7.5 MB 3.3 MB/s eta 0:00:02\n",
            "   ---------- ----------------------------- 1.9/7.5 MB 3.3 MB/s eta 0:00:02\n",
            "   ------------ --------------------------- 2.3/7.5 MB 3.2 MB/s eta 0:00:02\n",
            "   ------------ --------------------------- 2.4/7.5 MB 3.1 MB/s eta 0:00:02\n",
            "   ------------- -------------------------- 2.6/7.5 MB 3.2 MB/s eta 0:00:02\n",
            "   -------------- ------------------------- 2.8/7.5 MB 3.2 MB/s eta 0:00:02\n",
            "   --------------- ------------------------ 2.9/7.5 MB 3.2 MB/s eta 0:00:02\n",
            "   ---------------- ----------------------- 3.2/7.5 MB 3.2 MB/s eta 0:00:02\n",
            "   ----------------- ---------------------- 3.3/7.5 MB 3.3 MB/s eta 0:00:02\n",
            "   ------------------ --------------------- 3.5/7.5 MB 3.3 MB/s eta 0:00:02\n",
            "   ------------------- -------------------- 3.6/7.5 MB 3.3 MB/s eta 0:00:02\n",
            "   -------------------- ------------------- 3.8/7.5 MB 3.3 MB/s eta 0:00:02\n",
            "   --------------------- ------------------ 4.0/7.5 MB 3.3 MB/s eta 0:00:02\n",
            "   ---------------------- ----------------- 4.2/7.5 MB 3.4 MB/s eta 0:00:01\n",
            "   ----------------------- ---------------- 4.4/7.5 MB 3.4 MB/s eta 0:00:01\n",
            "   ------------------------ --------------- 4.6/7.5 MB 3.4 MB/s eta 0:00:01\n",
            "   ------------------------- -------------- 4.8/7.5 MB 3.4 MB/s eta 0:00:01\n",
            "   -------------------------- ------------- 5.0/7.5 MB 3.4 MB/s eta 0:00:01\n",
            "   --------------------------- ------------ 5.1/7.5 MB 3.4 MB/s eta 0:00:01\n",
            "   ---------------------------- ----------- 5.3/7.5 MB 3.5 MB/s eta 0:00:01\n",
            "   ----------------------------- ---------- 5.4/7.5 MB 3.4 MB/s eta 0:00:01\n",
            "   ------------------------------ --------- 5.7/7.5 MB 3.5 MB/s eta 0:00:01\n",
            "   ------------------------------- -------- 5.8/7.5 MB 3.4 MB/s eta 0:00:01\n",
            "   ------------------------------- -------- 6.0/7.5 MB 3.4 MB/s eta 0:00:01\n",
            "   --------------------------------- ------ 6.2/7.5 MB 3.5 MB/s eta 0:00:01\n",
            "   --------------------------------- ------ 6.3/7.5 MB 3.5 MB/s eta 0:00:01\n",
            "   ---------------------------------- ----- 6.5/7.5 MB 3.4 MB/s eta 0:00:01\n",
            "   ----------------------------------- ---- 6.7/7.5 MB 3.5 MB/s eta 0:00:01\n",
            "   ------------------------------------ --- 6.9/7.5 MB 3.5 MB/s eta 0:00:01\n",
            "   ------------------------------------- -- 7.1/7.5 MB 3.5 MB/s eta 0:00:01\n",
            "   -------------------------------------- - 7.3/7.5 MB 3.5 MB/s eta 0:00:01\n",
            "   ---------------------------------------  7.4/7.5 MB 3.5 MB/s eta 0:00:01\n",
            "   ---------------------------------------- 7.5/7.5 MB 3.5 MB/s eta 0:00:00\n",
            "Downloading contourpy-1.1.1-cp38-cp38-win_amd64.whl (477 kB)\n",
            "   ---------------------------------------- 0.0/477.9 kB ? eta -:--:--\n",
            "   ---------- ----------------------------- 122.9/477.9 kB 3.5 MB/s eta 0:00:01\n",
            "   ---------------- ----------------------- 194.6/477.9 kB 2.9 MB/s eta 0:00:01\n",
            "   ----------------------------------- ---- 419.8/477.9 kB 3.3 MB/s eta 0:00:01\n",
            "   ---------------------------------------- 477.9/477.9 kB 2.7 MB/s eta 0:00:00\n",
            "Using cached cycler-0.12.1-py3-none-any.whl (8.3 kB)\n",
            "Downloading fonttools-4.51.0-cp38-cp38-win_amd64.whl (1.5 MB)\n",
            "   ---------------------------------------- 0.0/1.5 MB ? eta -:--:--\n",
            "   --- ------------------------------------ 0.1/1.5 MB 4.3 MB/s eta 0:00:01\n",
            "   --------- ------------------------------ 0.4/1.5 MB 4.6 MB/s eta 0:00:01\n",
            "   --------------- ------------------------ 0.6/1.5 MB 4.2 MB/s eta 0:00:01\n",
            "   ------------------ --------------------- 0.7/1.5 MB 4.1 MB/s eta 0:00:01\n",
            "   ------------------------ --------------- 0.9/1.5 MB 3.9 MB/s eta 0:00:01\n",
            "   --------------------------- ------------ 1.1/1.5 MB 3.9 MB/s eta 0:00:01\n",
            "   -------------------------------- ------- 1.2/1.5 MB 3.9 MB/s eta 0:00:01\n",
            "   ------------------------------------- -- 1.4/1.5 MB 3.9 MB/s eta 0:00:01\n",
            "   ---------------------------------------- 1.5/1.5 MB 3.7 MB/s eta 0:00:00\n",
            "Downloading kiwisolver-1.4.5-cp38-cp38-win_amd64.whl (56 kB)\n",
            "   ---------------------------------------- 0.0/56.2 kB ? eta -:--:--\n",
            "   ---------------------------------------- 56.2/56.2 kB 2.9 MB/s eta 0:00:00\n",
            "Using cached pyparsing-3.1.2-py3-none-any.whl (103 kB)\n",
            "Installing collected packages: pyparsing, kiwisolver, fonttools, cycler, contourpy, matplotlib\n",
            "Successfully installed contourpy-1.1.1 cycler-0.12.1 fonttools-4.51.0 kiwisolver-1.4.5 matplotlib-3.7.5 pyparsing-3.1.2\n",
            "Note: you may need to restart the kernel to use updated packages.\n"
          ]
        }
      ],
      "source": [
        "pip install matplotlib"
      ]
    },
    {
      "cell_type": "code",
      "execution_count": 8,
      "metadata": {},
      "outputs": [
        {
          "name": "stdout",
          "output_type": "stream",
          "text": [
            "Collecting scikit-learn\n",
            "  Downloading scikit_learn-1.3.2-cp38-cp38-win_amd64.whl.metadata (11 kB)\n",
            "Requirement already satisfied: numpy<2.0,>=1.17.3 in c:\\users\\zefin\\anaconda3\\envs\\env_tfx28\\lib\\site-packages (from scikit-learn) (1.24.3)\n",
            "Requirement already satisfied: scipy>=1.5.0 in c:\\users\\zefin\\anaconda3\\envs\\env_tfx28\\lib\\site-packages (from scikit-learn) (1.10.1)\n",
            "Collecting joblib>=1.1.1 (from scikit-learn)\n",
            "  Downloading joblib-1.4.0-py3-none-any.whl.metadata (5.4 kB)\n",
            "Collecting threadpoolctl>=2.0.0 (from scikit-learn)\n",
            "  Downloading threadpoolctl-3.4.0-py3-none-any.whl.metadata (13 kB)\n",
            "Downloading scikit_learn-1.3.2-cp38-cp38-win_amd64.whl (9.3 MB)\n",
            "   ---------------------------------------- 0.0/9.3 MB ? eta -:--:--\n",
            "    --------------------------------------- 0.1/9.3 MB 3.6 MB/s eta 0:00:03\n",
            "   - -------------------------------------- 0.3/9.3 MB 3.5 MB/s eta 0:00:03\n",
            "   -- ------------------------------------- 0.5/9.3 MB 3.7 MB/s eta 0:00:03\n",
            "   -- ------------------------------------- 0.6/9.3 MB 3.5 MB/s eta 0:00:03\n",
            "   --- ------------------------------------ 0.8/9.3 MB 3.5 MB/s eta 0:00:03\n",
            "   ---- ----------------------------------- 1.1/9.3 MB 3.5 MB/s eta 0:00:03\n",
            "   ----- ---------------------------------- 1.2/9.3 MB 3.6 MB/s eta 0:00:03\n",
            "   ------ --------------------------------- 1.5/9.3 MB 3.6 MB/s eta 0:00:03\n",
            "   ------ --------------------------------- 1.6/9.3 MB 3.6 MB/s eta 0:00:03\n",
            "   ------- -------------------------------- 1.8/9.3 MB 3.6 MB/s eta 0:00:03\n",
            "   -------- ------------------------------- 2.0/9.3 MB 3.6 MB/s eta 0:00:03\n",
            "   --------- ------------------------------ 2.2/9.3 MB 3.6 MB/s eta 0:00:02\n",
            "   ---------- ----------------------------- 2.4/9.3 MB 3.7 MB/s eta 0:00:02\n",
            "   ---------- ----------------------------- 2.4/9.3 MB 3.6 MB/s eta 0:00:02\n",
            "   ----------- ---------------------------- 2.7/9.3 MB 3.6 MB/s eta 0:00:02\n",
            "   ------------ --------------------------- 2.9/9.3 MB 3.6 MB/s eta 0:00:02\n",
            "   ------------- -------------------------- 3.2/9.3 MB 3.7 MB/s eta 0:00:02\n",
            "   -------------- ------------------------- 3.3/9.3 MB 3.6 MB/s eta 0:00:02\n",
            "   -------------- ------------------------- 3.5/9.3 MB 3.6 MB/s eta 0:00:02\n",
            "   --------------- ------------------------ 3.7/9.3 MB 3.7 MB/s eta 0:00:02\n",
            "   ---------------- ----------------------- 3.9/9.3 MB 3.7 MB/s eta 0:00:02\n",
            "   ----------------- ---------------------- 4.0/9.3 MB 3.7 MB/s eta 0:00:02\n",
            "   ------------------ --------------------- 4.3/9.3 MB 3.7 MB/s eta 0:00:02\n",
            "   ------------------- -------------------- 4.4/9.3 MB 3.7 MB/s eta 0:00:02\n",
            "   ------------------- -------------------- 4.5/9.3 MB 3.7 MB/s eta 0:00:02\n",
            "   -------------------- ------------------- 4.7/9.3 MB 3.7 MB/s eta 0:00:02\n",
            "   --------------------- ------------------ 4.9/9.3 MB 3.6 MB/s eta 0:00:02\n",
            "   --------------------- ------------------ 5.1/9.3 MB 3.7 MB/s eta 0:00:02\n",
            "   ---------------------- ----------------- 5.2/9.3 MB 3.6 MB/s eta 0:00:02\n",
            "   ----------------------- ---------------- 5.4/9.3 MB 3.7 MB/s eta 0:00:02\n",
            "   ------------------------ --------------- 5.6/9.3 MB 3.7 MB/s eta 0:00:01\n",
            "   ------------------------- -------------- 5.8/9.3 MB 3.7 MB/s eta 0:00:01\n",
            "   ------------------------- -------------- 6.0/9.3 MB 3.7 MB/s eta 0:00:01\n",
            "   -------------------------- ------------- 6.2/9.3 MB 3.7 MB/s eta 0:00:01\n",
            "   --------------------------- ------------ 6.4/9.3 MB 3.7 MB/s eta 0:00:01\n",
            "   ---------------------------- ----------- 6.6/9.3 MB 3.8 MB/s eta 0:00:01\n",
            "   ----------------------------- ---------- 6.9/9.3 MB 3.8 MB/s eta 0:00:01\n",
            "   ------------------------------ --------- 7.0/9.3 MB 3.8 MB/s eta 0:00:01\n",
            "   ------------------------------- -------- 7.2/9.3 MB 3.8 MB/s eta 0:00:01\n",
            "   -------------------------------- ------- 7.4/9.3 MB 3.8 MB/s eta 0:00:01\n",
            "   -------------------------------- ------- 7.6/9.3 MB 3.8 MB/s eta 0:00:01\n",
            "   --------------------------------- ------ 7.8/9.3 MB 3.8 MB/s eta 0:00:01\n",
            "   ---------------------------------- ----- 8.0/9.3 MB 3.8 MB/s eta 0:00:01\n",
            "   ----------------------------------- ---- 8.3/9.3 MB 3.8 MB/s eta 0:00:01\n",
            "   ------------------------------------ --- 8.4/9.3 MB 3.8 MB/s eta 0:00:01\n",
            "   ------------------------------------- -- 8.6/9.3 MB 3.8 MB/s eta 0:00:01\n",
            "   -------------------------------------- - 8.8/9.3 MB 3.8 MB/s eta 0:00:01\n",
            "   -------------------------------------- - 9.0/9.3 MB 3.8 MB/s eta 0:00:01\n",
            "   ---------------------------------------  9.2/9.3 MB 3.8 MB/s eta 0:00:01\n",
            "   ---------------------------------------  9.3/9.3 MB 3.8 MB/s eta 0:00:01\n",
            "   ---------------------------------------- 9.3/9.3 MB 3.7 MB/s eta 0:00:00\n",
            "Downloading joblib-1.4.0-py3-none-any.whl (301 kB)\n",
            "   ---------------------------------------- 0.0/301.2 kB ? eta -:--:--\n",
            "   ------------ --------------------------- 92.2/301.2 kB ? eta -:--:--\n",
            "   ---------------------------------------- 301.2/301.2 kB 3.7 MB/s eta 0:00:00\n",
            "Downloading threadpoolctl-3.4.0-py3-none-any.whl (17 kB)\n",
            "Installing collected packages: threadpoolctl, joblib, scikit-learn\n",
            "Successfully installed joblib-1.4.0 scikit-learn-1.3.2 threadpoolctl-3.4.0\n",
            "Note: you may need to restart the kernel to use updated packages.\n"
          ]
        }
      ],
      "source": [
        "pip install scikit-learn"
      ]
    },
    {
      "cell_type": "code",
      "execution_count": 10,
      "metadata": {},
      "outputs": [
        {
          "name": "stdout",
          "output_type": "stream",
          "text": [
            "Tensorflow version 2.8.2\n"
          ]
        }
      ],
      "source": [
        "\n",
        "\n",
        "import os\n",
        "import zipfile\n",
        "\n",
        "import PIL.Image, PIL.ImageFont, PIL.ImageDraw\n",
        "import numpy as np\n",
        "from matplotlib import pyplot as plt\n",
        "\n",
        "import tensorflow as tf\n",
        "import tensorflow_datasets as tfds\n",
        "from sklearn.model_selection import train_test_split\n",
        "\n",
        "print(\"Tensorflow version \" + tf.__version__)"
      ]
    },
    {
      "cell_type": "code",
      "execution_count": 9,
      "metadata": {
        "id": "aifz2907kxYN"
      },
      "outputs": [
        {
          "name": "stdout",
          "output_type": "stream",
          "text": [
            "Collecting wget\n",
            "  Using cached wget-3.2.zip (10 kB)\n",
            "  Preparing metadata (setup.py): started\n",
            "  Preparing metadata (setup.py): finished with status 'done'\n",
            "Building wheels for collected packages: wget\n",
            "  Building wheel for wget (setup.py): started\n",
            "  Building wheel for wget (setup.py): finished with status 'done'\n",
            "  Created wheel for wget: filename=wget-3.2-py3-none-any.whl size=9680 sha256=4bc1dd6df54f3b73df5ef565893efdaf70d691a6719ff34245124ee0e700927e\n",
            "  Stored in directory: c:\\users\\zefin\\appdata\\local\\pip\\cache\\wheels\\bd\\a8\\c3\\3cf2c14a1837a4e04bd98631724e81f33f462d86a1d895fae0\n",
            "Successfully built wget\n",
            "Installing collected packages: wget\n",
            "Successfully installed wget-3.2\n",
            "Requirement already satisfied: keras in c:\\users\\zefin\\anaconda3\\envs\\env_tfx28\\lib\\site-packages (2.8.0)\n",
            "Requirement already satisfied: pillow in c:\\users\\zefin\\anaconda3\\envs\\env_tfx28\\lib\\site-packages (10.3.0)\n",
            "Requirement already satisfied: matplotlib in c:\\users\\zefin\\anaconda3\\envs\\env_tfx28\\lib\\site-packages (3.7.5)\n",
            "Requirement already satisfied: contourpy>=1.0.1 in c:\\users\\zefin\\anaconda3\\envs\\env_tfx28\\lib\\site-packages (from matplotlib) (1.1.1)\n",
            "Requirement already satisfied: cycler>=0.10 in c:\\users\\zefin\\anaconda3\\envs\\env_tfx28\\lib\\site-packages (from matplotlib) (0.12.1)\n",
            "Requirement already satisfied: fonttools>=4.22.0 in c:\\users\\zefin\\anaconda3\\envs\\env_tfx28\\lib\\site-packages (from matplotlib) (4.51.0)\n",
            "Requirement already satisfied: kiwisolver>=1.0.1 in c:\\users\\zefin\\anaconda3\\envs\\env_tfx28\\lib\\site-packages (from matplotlib) (1.4.5)\n",
            "Requirement already satisfied: numpy<2,>=1.20 in c:\\users\\zefin\\anaconda3\\envs\\env_tfx28\\lib\\site-packages (from matplotlib) (1.24.3)\n",
            "Requirement already satisfied: packaging>=20.0 in c:\\users\\zefin\\anaconda3\\envs\\env_tfx28\\lib\\site-packages (from matplotlib) (23.2)\n",
            "Requirement already satisfied: pillow>=6.2.0 in c:\\users\\zefin\\anaconda3\\envs\\env_tfx28\\lib\\site-packages (from matplotlib) (10.3.0)\n",
            "Requirement already satisfied: pyparsing>=2.3.1 in c:\\users\\zefin\\anaconda3\\envs\\env_tfx28\\lib\\site-packages (from matplotlib) (3.1.2)\n",
            "Requirement already satisfied: python-dateutil>=2.7 in c:\\users\\zefin\\anaconda3\\envs\\env_tfx28\\lib\\site-packages (from matplotlib) (2.9.0)\n",
            "Requirement already satisfied: importlib-resources>=3.2.0 in c:\\users\\zefin\\anaconda3\\envs\\env_tfx28\\lib\\site-packages (from matplotlib) (6.4.0)\n",
            "Requirement already satisfied: zipp>=3.1.0 in c:\\users\\zefin\\anaconda3\\envs\\env_tfx28\\lib\\site-packages (from importlib-resources>=3.2.0->matplotlib) (3.17.0)\n",
            "Requirement already satisfied: six>=1.5 in c:\\users\\zefin\\anaconda3\\envs\\env_tfx28\\lib\\site-packages (from python-dateutil>=2.7->matplotlib) (1.16.0)\n",
            "Requirement already satisfied: scikit-learn in c:\\users\\zefin\\anaconda3\\envs\\env_tfx28\\lib\\site-packages (1.3.2)\n",
            "Requirement already satisfied: numpy<2.0,>=1.17.3 in c:\\users\\zefin\\anaconda3\\envs\\env_tfx28\\lib\\site-packages (from scikit-learn) (1.24.3)\n",
            "Requirement already satisfied: scipy>=1.5.0 in c:\\users\\zefin\\anaconda3\\envs\\env_tfx28\\lib\\site-packages (from scikit-learn) (1.10.1)\n",
            "Requirement already satisfied: joblib>=1.1.1 in c:\\users\\zefin\\anaconda3\\envs\\env_tfx28\\lib\\site-packages (from scikit-learn) (1.4.0)\n",
            "Requirement already satisfied: threadpoolctl>=2.0.0 in c:\\users\\zefin\\anaconda3\\envs\\env_tfx28\\lib\\site-packages (from scikit-learn) (3.4.0)\n"
          ]
        }
      ],
      "source": [
        "#try:\n",
        "  # %tensorflow_version only exists in Colab.\n",
        "#  %tensorflow_version 2.x\n",
        "#except Exception:\n",
        "#  pass\n",
        "#!conda install tensorflow==2.8.0\n",
        "!pip install wget\n",
        "!pip install keras\n",
        "!pip install pillow\n",
        "!pip install matplotlib\n",
        "!pip install scikit-learn\n"
      ]
    },
    {
      "cell_type": "markdown",
      "metadata": {
        "id": "7RYh6cCzXE6R"
      },
      "source": [
        "## Download the dataset"
      ]
    },
    {
      "cell_type": "markdown",
      "metadata": {
        "id": "QUGGF3wfqYni"
      },
      "source": [
        "[M2NIST](https://www.kaggle.com/farhanhubble/multimnistm2nist) is a **multi digit** [MNIST](http://yann.lecun.com/exdb/mnist/).\n",
        "Each image has up to 3 digits from MNIST digits and the corresponding labels file has the segmentation masks.\n",
        "\n",
        "The dataset is available on [Kaggle](https://www.kaggle.com) and you can find it [here](https://www.kaggle.com/farhanhubble/multimnistm2nist)\n",
        "\n",
        "To make it easier for you, we're hosting it on Google Cloud so you can download without Kaggle credentials.\n"
      ]
    },
    {
      "cell_type": "code",
      "execution_count": 11,
      "metadata": {
        "id": "ROok0i9rMcu0"
      },
      "outputs": [],
      "source": [
        "# download zipped dataset\n",
        "\n",
        "\n",
        "# find and extract to a local folder ('/tmp/training')\n",
        "local_zip = 'C:\\\\Users\\\\zefin\\\\Downloads\\\\m2nist.zip'\n",
        "zip_ref = zipfile.ZipFile(local_zip, 'r')\n",
        "zip_ref.extractall('C:\\\\Users\\\\zefin\\\\download\\\\training')\n",
        "zip_ref.close()"
      ]
    },
    {
      "cell_type": "markdown",
      "metadata": {
        "id": "xy17LYR7XJNa"
      },
      "source": [
        "## Load and Preprocess the Dataset"
      ]
    },
    {
      "cell_type": "markdown",
      "metadata": {
        "id": "LXGMrWnkrvpK"
      },
      "source": [
        "This dataset can be easily preprocessed since it is available as **Numpy Array Files (.npy)**\n",
        "\n",
        "1. **combined.npy** has the image files containing the multiple MNIST digits. Each image is of size **64 x 84** (height x width, in pixels).\n",
        "\n",
        "2. **segmented.npy** has the corresponding segmentation masks. Each segmentation mask is also of size **64 x 84**.\n",
        "\n",
        "This dataset has **5000** samples and you can make appropriate training, validation, and test splits as required for the problem.\n",
        "\n",
        "With that, let's define a few utility functions for loading and preprocessing the dataset."
      ]
    },
    {
      "cell_type": "code",
      "execution_count": 12,
      "metadata": {
        "id": "Jy_pw5I2-xLP"
      },
      "outputs": [],
      "source": [
        "BATCH_SIZE = 32\n",
        "\n",
        "def read_image_and_annotation(image, annotation):\n",
        "  '''\n",
        "  Casts the image and annotation to their expected data type and\n",
        "  normalizes the input image so that each pixel is in the range [-1, 1]\n",
        "\n",
        "  Args:\n",
        "    image (numpy array) -- input image\n",
        "    annotation (numpy array) -- ground truth label map\n",
        "\n",
        "  Returns:\n",
        "    preprocessed image-annotation pair\n",
        "  '''\n",
        "\n",
        "  image = tf.cast(image, dtype=tf.float32)\n",
        "  image = tf.reshape(image, (image.shape[0], image.shape[1], 1,))\n",
        "  annotation = tf.cast(annotation, dtype=tf.int32)\n",
        "  image = image / 127.5\n",
        "  image -= 1\n",
        "\n",
        "  return image, annotation\n",
        "\n",
        "\n",
        "def get_training_dataset(images, annos):\n",
        "  '''\n",
        "  Prepares shuffled batches of the training set.\n",
        "\n",
        "  Args:\n",
        "    images (list of strings) -- paths to each image file in the train set\n",
        "    annos (list of strings) -- paths to each label map in the train set\n",
        "\n",
        "  Returns:\n",
        "    tf Dataset containing the preprocessed train set\n",
        "  '''\n",
        "  training_dataset = tf.data.Dataset.from_tensor_slices((images, annos))\n",
        "  training_dataset = training_dataset.map(read_image_and_annotation)\n",
        "\n",
        "  training_dataset = training_dataset.shuffle(512, reshuffle_each_iteration=True)\n",
        "  training_dataset = training_dataset.batch(BATCH_SIZE)\n",
        "  training_dataset = training_dataset.repeat()\n",
        "  training_dataset = training_dataset.prefetch(-1)\n",
        "\n",
        "  return training_dataset\n",
        "\n",
        "\n",
        "def get_validation_dataset(images, annos):\n",
        "  '''\n",
        "  Prepares batches of the validation set.\n",
        "\n",
        "  Args:\n",
        "    images (list of strings) -- paths to each image file in the val set\n",
        "    annos (list of strings) -- paths to each label map in the val set\n",
        "\n",
        "  Returns:\n",
        "    tf Dataset containing the preprocessed validation set\n",
        "  '''\n",
        "  validation_dataset = tf.data.Dataset.from_tensor_slices((images, annos))\n",
        "  validation_dataset = validation_dataset.map(read_image_and_annotation)\n",
        "  validation_dataset = validation_dataset.batch(BATCH_SIZE)\n",
        "  validation_dataset = validation_dataset.repeat()\n",
        "\n",
        "  return validation_dataset\n",
        "\n",
        "\n",
        "def get_test_dataset(images, annos):\n",
        "  '''\n",
        "  Prepares batches of the test set.\n",
        "\n",
        "  Args:\n",
        "    images (list of strings) -- paths to each image file in the test set\n",
        "    annos (list of strings) -- paths to each label map in the test set\n",
        "\n",
        "  Returns:\n",
        "    tf Dataset containing the preprocessed validation set\n",
        "  '''\n",
        "  test_dataset = tf.data.Dataset.from_tensor_slices((images, annos))\n",
        "  test_dataset = test_dataset.map(read_image_and_annotation)\n",
        "  test_dataset = test_dataset.batch(BATCH_SIZE, drop_remainder=True)\n",
        "\n",
        "  return test_dataset\n",
        "\n",
        "\n",
        "def load_images_and_segments():\n",
        "  '''\n",
        "  Loads the images and segments as numpy arrays from npy files\n",
        "  and makes splits for training, validation and test datasets.\n",
        "\n",
        "  Returns:\n",
        "    3 tuples containing the train, val, and test splits\n",
        "  '''\n",
        "\n",
        "  #Loads images and segmentation masks.\n",
        "  images = np.load('C:\\\\Users\\\\zefin\\\\Downloads\\\\training\\\\combined.npy')\n",
        "  segments = np.load('C:\\\\Users\\\\zefin\\\\Downloads\\\\training\\\\segmented.npy')\n",
        "\n",
        "  #Makes training, validation, test splits from loaded images and segmentation masks.\n",
        "  train_images, val_images, train_annos, val_annos = train_test_split(images, segments, test_size=0.2, shuffle=True)\n",
        "  val_images, test_images, val_annos, test_annos = train_test_split(val_images, val_annos, test_size=0.2, shuffle=True)\n",
        "\n",
        "  return (train_images, train_annos), (val_images, val_annos), (test_images, test_annos)\n"
      ]
    },
    {
      "cell_type": "markdown",
      "metadata": {
        "id": "iPHO1YbTACcu"
      },
      "source": [
        "You can now load the preprocessed dataset and define the training, validation, and test sets."
      ]
    },
    {
      "cell_type": "code",
      "execution_count": 13,
      "metadata": {
        "id": "hIS70_um_Y7n",
        "lines_to_next_cell": 2
      },
      "outputs": [],
      "source": [
        "# Load Dataset\n",
        "train_slices, val_slices, test_slices = load_images_and_segments()\n",
        "\n",
        "# Create training, validation, test datasets.\n",
        "training_dataset = get_training_dataset(train_slices[0], train_slices[1])\n",
        "validation_dataset = get_validation_dataset(val_slices[0], val_slices[1])\n",
        "test_dataset = get_test_dataset(test_slices[0], test_slices[1])"
      ]
    },
    {
      "cell_type": "markdown",
      "metadata": {
        "id": "oKXJYZi7A0dF"
      },
      "source": [
        "## Let's Take a Look at the Dataset\n",
        "\n",
        "You may want to visually inspect the dataset before and after training. Like above, we've included utility functions to help show a few images as well as their annotations (i.e. labels)."
      ]
    },
    {
      "cell_type": "code",
      "execution_count": 14,
      "metadata": {
        "cellView": "both",
        "id": "d46YCbvPafbp"
      },
      "outputs": [],
      "source": [
        "# Visualization Utilities\n",
        "\n",
        "# there are 11 classes in the dataset: one class for each digit (0 to 9) plus the background class\n",
        "n_classes = 11\n",
        "\n",
        "# assign a random color for each class\n",
        "colors = [tuple(np.random.randint(256, size=3) / 255.0) for i in range(n_classes)]\n",
        "\n",
        "def fuse_with_pil(images):\n",
        "  '''\n",
        "  Creates a blank image and pastes input images\n",
        "\n",
        "  Args:\n",
        "    images (list of numpy arrays) - numpy array representations of the images to paste\n",
        "\n",
        "  Returns:\n",
        "    PIL Image object containing the images\n",
        "  '''\n",
        "\n",
        "  widths = (image.shape[1] for image in images)\n",
        "  heights = (image.shape[0] for image in images)\n",
        "  total_width = sum(widths)\n",
        "  max_height = max(heights)\n",
        "\n",
        "  new_im = PIL.Image.new('RGB', (total_width, max_height))\n",
        "\n",
        "  x_offset = 0\n",
        "  for im in images:\n",
        "    pil_image = PIL.Image.fromarray(np.uint8(im))\n",
        "    new_im.paste(pil_image, (x_offset,0))\n",
        "    x_offset += im.shape[1]\n",
        "\n",
        "  return new_im\n",
        "\n",
        "\n",
        "def give_color_to_annotation(annotation):\n",
        "  '''\n",
        "  Converts a 2-D annotation to a numpy array with shape (height, width, 3) where\n",
        "  the third axis represents the color channel. The label values are multiplied by\n",
        "  255 and placed in this axis to give color to the annotation\n",
        "\n",
        "  Args:\n",
        "    annotation (numpy array) - label map array\n",
        "\n",
        "  Returns:\n",
        "    the annotation array with an additional color channel/axis\n",
        "  '''\n",
        "  seg_img = np.zeros( (annotation.shape[0],annotation.shape[1], 3) ).astype('float')\n",
        "\n",
        "  for c in range(n_classes):\n",
        "    segc = (annotation == c)\n",
        "    seg_img[:,:,0] += segc*( colors[c][0] * 255.0)\n",
        "    seg_img[:,:,1] += segc*( colors[c][1] * 255.0)\n",
        "    seg_img[:,:,2] += segc*( colors[c][2] * 255.0)\n",
        "\n",
        "  return seg_img\n",
        "\n",
        "\n",
        "def show_annotation_and_prediction(image, annotation, prediction, iou_list, dice_score_list):\n",
        "  '''\n",
        "  Displays the images with the ground truth and predicted label maps. Also overlays the metrics.\n",
        "\n",
        "  Args:\n",
        "    image (numpy array) -- the input image\n",
        "    annotation (numpy array) -- the ground truth label map\n",
        "    prediction (numpy array) -- the predicted label map\n",
        "    iou_list (list of floats) -- the IOU values for each class\n",
        "    dice_score_list (list of floats) -- the Dice Score for each class\n",
        "  '''\n",
        "\n",
        "  new_ann = np.argmax(annotation, axis=2)\n",
        "  true_img = give_color_to_annotation(new_ann)\n",
        "  pred_img = give_color_to_annotation(prediction)\n",
        "\n",
        "  image = image + 1\n",
        "  image = image * 127.5\n",
        "  image = np.reshape(image, (image.shape[0], image.shape[1],))\n",
        "  image = np.uint8(image)\n",
        "  images = [image, np.uint8(pred_img), np.uint8(true_img)]\n",
        "\n",
        "  metrics_by_id = [(idx, iou, dice_score) for idx, (iou, dice_score) in enumerate(zip(iou_list, dice_score_list)) if iou > 0.0 and idx < 10]\n",
        "  metrics_by_id.sort(key=lambda tup: tup[1], reverse=True)  # sorts in place\n",
        "\n",
        "  display_string_list = [\"{}: IOU: {} Dice Score: {}\".format(idx, iou, dice_score) for idx, iou, dice_score in metrics_by_id]\n",
        "  display_string = \"\\n\".join(display_string_list)\n",
        "\n",
        "  plt.figure(figsize=(15, 4))\n",
        "\n",
        "  for idx, im in enumerate(images):\n",
        "    plt.subplot(1, 3, idx+1)\n",
        "    if idx == 1:\n",
        "      plt.xlabel(display_string)\n",
        "    plt.xticks([])\n",
        "    plt.yticks([])\n",
        "    plt.imshow(im)\n",
        "\n",
        "\n",
        "def show_annotation_and_image(image, annotation):\n",
        "  '''\n",
        "  Displays the image and its annotation side by side\n",
        "\n",
        "  Args:\n",
        "    image (numpy array) -- the input image\n",
        "    annotation (numpy array) -- the label map\n",
        "  '''\n",
        "  new_ann = np.argmax(annotation, axis=2)\n",
        "  seg_img = give_color_to_annotation(new_ann)\n",
        "\n",
        "  image = image + 1\n",
        "  image = image * 127.5\n",
        "  image = np.reshape(image, (image.shape[0], image.shape[1],))\n",
        "\n",
        "  image = np.uint8(image)\n",
        "  images = [image, seg_img]\n",
        "\n",
        "  images = [image, seg_img]\n",
        "  fused_img = fuse_with_pil(images)\n",
        "  plt.imshow(fused_img)\n",
        "\n",
        "\n",
        "def list_show_annotation(dataset, num_images):\n",
        "  '''\n",
        "  Displays images and its annotations side by side\n",
        "\n",
        "  Args:\n",
        "    dataset (tf Dataset) -- batch of images and annotations\n",
        "    num_images (int) -- number of images to display\n",
        "  '''\n",
        "  ds = dataset.unbatch()\n",
        "\n",
        "  plt.figure(figsize=(20, 15))\n",
        "  plt.title(\"Images And Annotations\")\n",
        "  plt.subplots_adjust(bottom=0.1, top=0.9, hspace=0.05)\n",
        "\n",
        "  for idx, (image, annotation) in enumerate(ds.take(num_images)):\n",
        "    plt.subplot(5, 5, idx + 1)\n",
        "    plt.yticks([])\n",
        "    plt.xticks([])\n",
        "    show_annotation_and_image(image.numpy(), annotation.numpy())\n"
      ]
    },
    {
      "cell_type": "markdown",
      "metadata": {
        "id": "hEfyChmKEFKe"
      },
      "source": [
        "You can view a subset of the images from the dataset with the `list_show_annotation()` function defined above. Run the cells below to see the image on the left and its pixel-wise ground truth label map on the right."
      ]
    },
    {
      "cell_type": "code",
      "execution_count": 15,
      "metadata": {
        "id": "AFO_hIhLWYT4"
      },
      "outputs": [
        {
          "name": "stderr",
          "output_type": "stream",
          "text": [
            "C:\\Users\\zefin\\AppData\\Local\\Temp\\ipykernel_5320\\1130937988.py:136: MatplotlibDeprecationWarning: Auto-removal of overlapping axes is deprecated since 3.6 and will be removed two minor releases later; explicitly call ax.remove() as needed.\n",
            "  plt.subplot(5, 5, idx + 1)\n"
          ]
        },
        {
          "data": {
            "image/png": "[encoded data removed]",
            "text/plain": [
              "<Figure size 2000x1500 with 10 Axes>"
            ]
          },
          "metadata": {},
          "output_type": "display_data"
        }
      ],
      "source": [
        "# get 10 images from the training set\n",
        "list_show_annotation(training_dataset, 10)"
      ]
    },
    {
      "cell_type": "code",
      "execution_count": 16,
      "metadata": {
        "id": "bdgVkp8wZua0"
      },
      "outputs": [
        {
          "name": "stderr",
          "output_type": "stream",
          "text": [
            "C:\\Users\\zefin\\AppData\\Local\\Temp\\ipykernel_5320\\1130937988.py:136: MatplotlibDeprecationWarning: Auto-removal of overlapping axes is deprecated since 3.6 and will be removed two minor releases later; explicitly call ax.remove() as needed.\n",
            "  plt.subplot(5, 5, idx + 1)\n"
          ]
        },
        {
          "data": {
            "image/png": "[encoded data removed]",
            "text/plain": [
              "<Figure size 2000x1500 with 10 Axes>"
            ]
          },
          "metadata": {},
          "output_type": "display_data"
        }
      ],
      "source": [
        "# get 10 images from the validation set\n",
        "list_show_annotation(validation_dataset, 10)"
      ]
    },
    {
      "cell_type": "markdown",
      "metadata": {
        "id": "KkpgIcE2FeKI"
      },
      "source": [
        "You see from the images above the colors assigned to each class (i.e 0 to 9 plus the background). If you don't like these colors, feel free to rerun the cell where `colors` is defined to get another set of random colors. Alternatively, you can assign the RGB values for each class instead of relying on random values."
      ]
    },
    {
      "cell_type": "markdown",
      "metadata": {
        "id": "QFv2k8xabRb8"
      },
      "source": [
        "## Define the Model"
      ]
    },
    {
      "cell_type": "markdown",
      "metadata": {
        "id": "Q_ylpyqJDQiF"
      },
      "source": [
        "As discussed in the lectures, the image segmentation model will have two paths:\n",
        "\n",
        "1. **Downsampling Path** - This part of the network extracts the features in the image. This is done through a series of convolution and pooling layers. The final output is a reduced image (because of the pooling layers) with the extracted features. You will build a custom CNN from scratch for this path.\n",
        "\n",
        "2. **Upsampling Path** - This takes the output of the downsampling path and generates the predictions while also converting the image back to its original size. You will use an FCN-8 decoder for this path."
      ]
    },
    {
      "cell_type": "markdown",
      "metadata": {
        "id": "BHlBUZvsDybt"
      },
      "source": [
        "### Define the Basic Convolution Block"
      ]
    },
    {
      "cell_type": "markdown",
      "metadata": {
        "id": "T-XO9xkN1OR3"
      },
      "source": [
        "<a name='exercise-1'></a>\n",
        "\n",
        "#### **Exercise 1**\n",
        "\n",
        "Please complete the function below to build the basic convolution block for our CNN. This will have two [Conv2D](https://keras.io/api/layers/convolution_layers/convolution2d/) layers each followed by a [LeakyReLU](https://keras.io/api/layers/activation_layers/leaky_relu/), then [max pooled](https://keras.io/api/layers/pooling_layers/max_pooling2d/) and [batch-normalized](https://keras.io/api/layers/normalization_layers/batch_normalization/). Use the functional syntax to stack these layers.\n",
        "\n",
        "$$Input -> Conv2D -> LeakyReLU -> Conv2D -> LeakyReLU -> MaxPooling2D -> BatchNormalization$$\n",
        "\n",
        "When defining the Conv2D layers, note that our data inputs will have the 'channels' dimension last. You may want to check the `data_format` argument in the [docs](https://keras.io/api/layers/convolution_layers/convolution2d/) regarding this. Take note of the `padding` argument too like you did in the ungraded labs.\n",
        "\n",
        "Lastly, to use the `LeakyReLU` activation, you **do not** need to nest it inside an `Activation` layer (e.g. `x = tf.keras.layers.Activation(tf.keras.layers.LeakyReLU()(x)`). You can simply stack the layer directly instead (e.g. `x = tf.keras.layers.LeakyReLU()(x)`)"
      ]
    },
    {
      "cell_type": "code",
      "execution_count": 17,
      "metadata": {
        "id": "azEEVytHR0Kn"
      },
      "outputs": [],
      "source": [
        "# parameter describing where the channel dimension is found in our dataset\n",
        "IMAGE_ORDERING = 'channels_last'\n",
        "\n",
        "def conv_block(input, filters, kernel_size, pooling_size, pool_strides):\n",
        "  '''\n",
        "  Args:\n",
        "    input (tensor) -- batch of images or features\n",
        "    filters (int) -- number of filters of the Conv2D layers\n",
        "    kernel_size (int) -- kernel_size setting of the Conv2D layers\n",
        "    pooling_size (int) -- pooling size of the MaxPooling2D layers\n",
        "    pool_strides (int) -- strides setting of the MaxPooling2D layers\n",
        "\n",
        "  Returns:\n",
        "    (tensor) max pooled and batch-normalized features of the input\n",
        "  '''\n",
        "  ### START CODE HERE ###\n",
        "  # use the functional syntax to stack the layers as shown in the diagram above\n",
        "  x = tf.keras.layers.Conv2D(filters, kernel_size, padding='same', data_format=IMAGE_ORDERING)(input)\n",
        "  x = tf.keras.layers.LeakyReLU()(x)\n",
        "  x = tf.keras.layers.Conv2D(filters, kernel_size, padding='same')(x)\n",
        "  x = tf.keras.layers.LeakyReLU()(x)\n",
        "  x = tf.keras.layers.MaxPooling2D(pool_size= pooling_size, strides= pool_strides)(x)\n",
        "  x = tf.keras.layers.BatchNormalization()(x)\n",
        "  ### END CODE HERE ###\n",
        "\n",
        "  return x"
      ]
    },
    {
      "cell_type": "code",
      "execution_count": 18,
      "metadata": {
        "id": "uGtlHuM6KCRg"
      },
      "outputs": [
        {
          "name": "stdout",
          "output_type": "stream",
          "text": [
            "Model: \"model\"\n",
            "_________________________________________________________________\n",
            " Layer (type)                Output Shape              Param #   \n",
            "=================================================================\n",
            " input_1 (InputLayer)        [(None, 64, 84, 1)]       0         \n",
            "                                                                 \n",
            " conv2d (Conv2D)             (None, 64, 84, 32)        320       \n",
            "                                                                 \n",
            " leaky_re_lu (LeakyReLU)     (None, 64, 84, 32)        0         \n",
            "                                                                 \n",
            " conv2d_1 (Conv2D)           (None, 64, 84, 32)        9248      \n",
            "                                                                 \n",
            " leaky_re_lu_1 (LeakyReLU)   (None, 64, 84, 32)        0         \n",
            "                                                                 \n",
            " max_pooling2d (MaxPooling2D  (None, 32, 42, 32)       0         \n"
          ]
        },
        {
          "name": "stdout",
          "output_type": "stream",
          "text": [
            " )                                                               \n",
            "                                                                 \n",
            " batch_normalization (BatchN  (None, 32, 42, 32)       128       \n",
            " ormalization)                                                   \n",
            "                                                                 \n",
            "=================================================================\n",
            "Total params: 9,696\n",
            "Trainable params: 9,632\n",
            "Non-trainable params: 64\n",
            "_________________________________________________________________\n",
            "None\n"
          ]
        }
      ],
      "source": [
        "# TEST CODE:\n",
        "\n",
        "test_input = tf.keras.layers.Input(shape=(64,84, 1))\n",
        "test_output = conv_block(test_input, 32, 3, 2, 2)\n",
        "test_model = tf.keras.Model(inputs=test_input, outputs=test_output)\n",
        "\n",
        "print(test_model.summary())\n",
        "\n",
        "# free up test resources\n",
        "del test_input, test_output, test_model"
      ]
    },
    {
      "cell_type": "markdown",
      "metadata": {
        "id": "Mmf_ZaMP2rV3"
      },
      "source": [
        "**Expected Output**:\n",
        "\n",
        "Please pay attention to the *(type)* and *Output Shape* columns. The *Layer* name beside the type may be different depending on how many times you ran the cell (e.g. `input_7` can be `input_1`)\n",
        "\n",
        "```txt\n",
        "Model: \"functional_1\"\n",
        "_________________________________________________________________\n",
        "Layer (type)                 Output Shape              Param #   \n",
        "=================================================================\n",
        "input_1 (InputLayer)         [(None, 64, 84, 1)]       0         \n",
        "_________________________________________________________________\n",
        "conv2d (Conv2D)              (None, 64, 84, 32)        320       \n",
        "_________________________________________________________________\n",
        "leaky_re_lu (LeakyReLU)      (None, 64, 84, 32)        0         \n",
        "_________________________________________________________________\n",
        "conv2d_1 (Conv2D)            (None, 64, 84, 32)        9248      \n",
        "_________________________________________________________________\n",
        "leaky_re_lu_1 (LeakyReLU)    (None, 64, 84, 32)        0         \n",
        "_________________________________________________________________\n",
        "max_pooling2d (MaxPooling2D) (None, 32, 42, 32)        0         \n",
        "_________________________________________________________________\n",
        "batch_normalization (BatchNo (None, 32, 42, 32)        128       \n",
        "=================================================================\n",
        "Total params: 9,696\n",
        "Trainable params: 9,632\n",
        "Non-trainable params: 64\n",
        "_________________________________________________________________\n",
        "None\n",
        "```"
      ]
    },
    {
      "cell_type": "markdown",
      "metadata": {
        "id": "4-jJbC91EXTV"
      },
      "source": [
        "### Define the Downsampling Path"
      ]
    },
    {
      "cell_type": "markdown",
      "metadata": {
        "id": "e2ueOTmc3HxJ"
      },
      "source": [
        "<a name='exercise-2'></a>\n",
        "\n",
        "#### **Exercise 2**\n",
        "\n",
        "Now that we've defined the building block of our encoder, you can now build the downsampling path. Please complete the function below to create the encoder. This should chain together five convolution building blocks to create a feature extraction CNN minus the fully connected layers.\n",
        "\n",
        "*Notes*:\n",
        "1. To optimize processing or to make the output dimensions of each layer easier to work with, it is sometimes advisable to apply some zero-padding to the input image. With the boilerplate code we have provided below, we have padded the input width to 96 pixels using the [ZeroPadding2D layer](https://keras.io/api/layers/reshaping_layers/zero_padding2d/). This works well if you're going to use the first ungraded lab of this week as reference. This is not required however. You can remove it later and see how it will affect your parameters. For instance, you might need to pass in a non-square kernel size to the decoder in Exercise 3 (e.g. `(4,5)`) to match the output dimensions of Exercise 2.\n",
        "\n",
        "2. We recommend keeping the pool size and stride parameters constant at 2."
      ]
    },
    {
      "cell_type": "code",
      "execution_count": 19,
      "metadata": {
        "id": "F2VNB99LRwQr"
      },
      "outputs": [],
      "source": [
        "def FCN8(input_height=64, input_width=84):\n",
        "    '''\n",
        "    Defines the downsampling path of the image segmentation model.\n",
        "\n",
        "    Args:\n",
        "      input_height (int) -- height of the images\n",
        "      width (int) -- width of the images\n",
        "\n",
        "    Returns:\n",
        "    (tuple of tensors, tensor)\n",
        "      tuple of tensors -- features extracted at blocks 3 to 5\n",
        "      tensor -- copy of the input\n",
        "    '''\n",
        "\n",
        "    img_input = tf.keras.layers.Input(shape=(input_height,input_width, 1))\n",
        "\n",
        "    ### START CODE HERE ###\n",
        "\n",
        "    # pad the input image width to 96 pixels\n",
        "    # pad the input image to have dimensions to the nearest power of two\n",
        "    x = tf.keras.layers.ZeroPadding2D(padding = (0, 6))(img_input)\n",
        "\n",
        "    # Block 1\n",
        "    x = conv_block(x, 32, 2, 2, 2)\n",
        "\n",
        "    # Block 2\n",
        "    x = conv_block(x, 64, 2, 2, 2)\n",
        "\n",
        "    # Block 3\n",
        "    x = conv_block(x, 128, 2, 2, 2)\n",
        "    # save the feature map at this stage\n",
        "    f3 = x\n",
        "\n",
        "    # Block 4\n",
        "    x = conv_block(x, 256, 2, 2, 2)\n",
        "    # save the feature map at this stage\n",
        "    f4 = x\n",
        "\n",
        "    # Block 5\n",
        "    x = conv_block(x, 256, 2, 2, 2)\n",
        "    # save the feature map at this stage\n",
        "    f5 = x\n",
        "\n",
        "    ### END CODE HERE ###\n",
        "\n",
        "    return (f3, f4, f5), img_input"
      ]
    },
    {
      "cell_type": "code",
      "execution_count": 20,
      "metadata": {
        "id": "HVQm1W0CNICS"
      },
      "outputs": [
        {
          "name": "stdout",
          "output_type": "stream",
          "text": [
            "Model: \"model_1\"\n",
            "_________________________________________________________________\n",
            " Layer (type)                Output Shape              Param #   \n",
            "=================================================================\n",
            " input_2 (InputLayer)        [(None, 64, 84, 1)]       0         \n",
            "                                                                 \n",
            " zero_padding2d (ZeroPadding  (None, 64, 96, 1)        0         \n",
            " 2D)                                                             \n",
            "                                                                 \n",
            " conv2d_2 (Conv2D)           (None, 64, 96, 32)        160       \n",
            "                                                                 \n",
            " leaky_re_lu_2 (LeakyReLU)   (None, 64, 96, 32)        0         \n",
            "                                                                 \n",
            " conv2d_3 (Conv2D)           (None, 64, 96, 32)        4128      \n",
            "                                                                 \n",
            " leaky_re_lu_3 (LeakyReLU)   (None, 64, 96, 32)        0         \n",
            "                                                                 \n",
            " max_pooling2d_1 (MaxPooling  (None, 32, 48, 32)       0         \n",
            " 2D)                                                             \n",
            "                                                                 \n",
            " batch_normalization_1 (Batc  (None, 32, 48, 32)       128       \n",
            " hNormalization)                                                 \n",
            "                                                                 \n",
            " conv2d_4 (Conv2D)           (None, 32, 48, 64)        8256      \n",
            "                                                                 \n",
            " leaky_re_lu_4 (LeakyReLU)   (None, 32, 48, 64)        0         \n",
            "                                                                 \n",
            " conv2d_5 (Conv2D)           (None, 32, 48, 64)        16448     \n",
            "                                                                 \n",
            " leaky_re_lu_5 (LeakyReLU)   (None, 32, 48, 64)        0         \n",
            "                                                                 \n",
            " max_pooling2d_2 (MaxPooling  (None, 16, 24, 64)       0         \n",
            " 2D)                                                             \n",
            "                                                                 \n",
            " batch_normalization_2 (Batc  (None, 16, 24, 64)       256       \n",
            " hNormalization)                                                 \n",
            "                                                                 \n",
            " conv2d_6 (Conv2D)           (None, 16, 24, 128)       32896     \n",
            "                                                                 \n",
            " leaky_re_lu_6 (LeakyReLU)   (None, 16, 24, 128)       0         \n",
            "                                                                 \n",
            " conv2d_7 (Conv2D)           (None, 16, 24, 128)       65664     \n",
            "                                                                 \n",
            " leaky_re_lu_7 (LeakyReLU)   (None, 16, 24, 128)       0         \n",
            "                                                                 \n",
            " max_pooling2d_3 (MaxPooling  (None, 8, 12, 128)       0         \n",
            " 2D)                                                             \n",
            "                                                                 \n",
            " batch_normalization_3 (Batc  (None, 8, 12, 128)       512       \n",
            " hNormalization)                                                 \n",
            "                                                                 \n",
            " conv2d_8 (Conv2D)           (None, 8, 12, 256)        131328    \n",
            "                                                                 \n",
            " leaky_re_lu_8 (LeakyReLU)   (None, 8, 12, 256)        0         \n",
            "                                                                 \n",
            " conv2d_9 (Conv2D)           (None, 8, 12, 256)        262400    \n",
            "                                                                 \n",
            " leaky_re_lu_9 (LeakyReLU)   (None, 8, 12, 256)        0         \n",
            "                                                                 \n",
            " max_pooling2d_4 (MaxPooling  (None, 4, 6, 256)        0         \n",
            " 2D)                                                             \n",
            "                                                                 \n",
            " batch_normalization_4 (Batc  (None, 4, 6, 256)        1024      \n",
            " hNormalization)                                                 \n",
            "                                                                 \n",
            " conv2d_10 (Conv2D)          (None, 4, 6, 256)         262400    \n",
            "                                                                 \n",
            " leaky_re_lu_10 (LeakyReLU)  (None, 4, 6, 256)         0         \n",
            "                                                                 \n",
            " conv2d_11 (Conv2D)          (None, 4, 6, 256)         262400    \n",
            "                                                                 \n",
            " leaky_re_lu_11 (LeakyReLU)  (None, 4, 6, 256)         0         \n",
            "                                                                 \n",
            " max_pooling2d_5 (MaxPooling  (None, 2, 3, 256)        0         \n",
            " 2D)                                                             \n",
            "                                                                 \n",
            " batch_normalization_5 (Batc  (None, 2, 3, 256)        1024      \n",
            " hNormalization)                                                 \n",
            "                                                                 \n",
            "=================================================================\n",
            "Total params: 1,049,024\n",
            "Trainable params: 1,047,552\n",
            "Non-trainable params: 1,472\n",
            "_________________________________________________________________\n",
            "None\n"
          ]
        }
      ],
      "source": [
        "# TEST CODE:\n",
        "\n",
        "test_convs, test_img_input = FCN8()\n",
        "test_model = tf.keras.Model(inputs=test_img_input, outputs=[*test_convs, test_img_input])\n",
        "\n",
        "print(test_model.summary())\n",
        "\n",
        "del test_convs, test_img_input, test_model"
      ]
    },
    {
      "cell_type": "markdown",
      "metadata": {
        "id": "sxklZe_D3jOI"
      },
      "source": [
        "**Expected Output**:\n",
        "\n",
        "You should see the layers of your `conv_block()` being repeated 5 times like the output below.\n",
        "\n",
        "```txt\n",
        "Model: \"functional_3\"\n",
        "_________________________________________________________________\n",
        "Layer (type)                 Output Shape              Param #   \n",
        "=================================================================\n",
        "input_3 (InputLayer)         [(None, 64, 84, 1)]       0         \n",
        "_________________________________________________________________\n",
        "zero_padding2d (ZeroPadding2 (None, 64, 96, 1)         0         \n",
        "_________________________________________________________________\n",
        "conv2d_2 (Conv2D)            (None, 64, 96, 32)        320       \n",
        "_________________________________________________________________\n",
        "leaky_re_lu_2 (LeakyReLU)    (None, 64, 96, 32)        0         \n",
        "_________________________________________________________________\n",
        "conv2d_3 (Conv2D)            (None, 64, 96, 32)        9248      \n",
        "_________________________________________________________________\n",
        "leaky_re_lu_3 (LeakyReLU)    (None, 64, 96, 32)        0         \n",
        "_________________________________________________________________\n",
        "max_pooling2d_1 (MaxPooling2 (None, 32, 48, 32)        0         \n",
        "_________________________________________________________________\n",
        "batch_normalization_1 (Batch (None, 32, 48, 32)        128       \n",
        "_________________________________________________________________\n",
        "conv2d_4 (Conv2D)            (None, 32, 48, 64)        18496     \n",
        "_________________________________________________________________\n",
        "leaky_re_lu_4 (LeakyReLU)    (None, 32, 48, 64)        0         \n",
        "_________________________________________________________________\n",
        "conv2d_5 (Conv2D)            (None, 32, 48, 64)        36928     \n",
        "_________________________________________________________________\n",
        "leaky_re_lu_5 (LeakyReLU)    (None, 32, 48, 64)        0         \n",
        "_________________________________________________________________\n",
        "max_pooling2d_2 (MaxPooling2 (None, 16, 24, 64)        0         \n",
        "_________________________________________________________________\n",
        "batch_normalization_2 (Batch (None, 16, 24, 64)        256       \n",
        "_________________________________________________________________\n",
        "conv2d_6 (Conv2D)            (None, 16, 24, 128)       73856     \n",
        "_________________________________________________________________\n",
        "leaky_re_lu_6 (LeakyReLU)    (None, 16, 24, 128)       0         \n",
        "_________________________________________________________________\n",
        "conv2d_7 (Conv2D)            (None, 16, 24, 128)       147584    \n",
        "_________________________________________________________________\n",
        "leaky_re_lu_7 (LeakyReLU)    (None, 16, 24, 128)       0         \n",
        "_________________________________________________________________\n",
        "max_pooling2d_3 (MaxPooling2 (None, 8, 12, 128)        0         \n",
        "_________________________________________________________________\n",
        "batch_normalization_3 (Batch (None, 8, 12, 128)        512       \n",
        "_________________________________________________________________\n",
        "conv2d_8 (Conv2D)            (None, 8, 12, 256)        295168    \n",
        "_________________________________________________________________\n",
        "leaky_re_lu_8 (LeakyReLU)    (None, 8, 12, 256)        0         \n",
        "_________________________________________________________________\n",
        "conv2d_9 (Conv2D)            (None, 8, 12, 256)        590080    \n",
        "_________________________________________________________________\n",
        "leaky_re_lu_9 (LeakyReLU)    (None, 8, 12, 256)        0         \n",
        "_________________________________________________________________\n",
        "max_pooling2d_4 (MaxPooling2 (None, 4, 6, 256)         0         \n",
        "_________________________________________________________________\n",
        "batch_normalization_4 (Batch (None, 4, 6, 256)         1024      \n",
        "_________________________________________________________________\n",
        "conv2d_10 (Conv2D)           (None, 4, 6, 256)         590080    \n",
        "_________________________________________________________________\n",
        "leaky_re_lu_10 (LeakyReLU)   (None, 4, 6, 256)         0         \n",
        "_________________________________________________________________\n",
        "conv2d_11 (Conv2D)           (None, 4, 6, 256)         590080    \n",
        "_________________________________________________________________\n",
        "leaky_re_lu_11 (LeakyReLU)   (None, 4, 6, 256)         0         \n",
        "_________________________________________________________________\n",
        "max_pooling2d_5 (MaxPooling2 (None, 2, 3, 256)         0         \n",
        "_________________________________________________________________\n",
        "batch_normalization_5 (Batch (None, 2, 3, 256)         1024      \n",
        "=================================================================\n",
        "Total params: 2,354,784\n",
        "Trainable params: 2,353,312\n",
        "Non-trainable params: 1,472\n",
        "_________________________________________________________________\n",
        "None\n",
        "```"
      ]
    },
    {
      "cell_type": "markdown",
      "metadata": {
        "id": "LbjYEQU8Eq-T"
      },
      "source": [
        "### Define the FCN-8 decoder"
      ]
    },
    {
      "cell_type": "markdown",
      "metadata": {
        "id": "Ux5nAU155E5O"
      },
      "source": [
        "<a name='exercise-3'></a>\n",
        "\n",
        "#### **Exercise 3**\n",
        "\n",
        "Now you can define the upsampling path taking the outputs of convolutions at each stage as arguments. This will be very similar to what you did in the ungraded lab (VGG16-FCN8-CamVid) so you can refer to it if you need a refresher.\n",
        "* Note: remember to set the `data_format` parameter for the Conv2D layers.\n",
        "\n",
        "Here is also the diagram you saw in class on how it should work:\n",
        "\n",
        "<img src='https://drive.google.com/uc?export=view&id=1lrqB4YegV8jXWNfyYAaeuFlwXIc54aRP' alt='fcn-8'>"
      ]
    },
    {
      "cell_type": "code",
      "execution_count": 21,
      "metadata": {
        "id": "giYEct_Se5Xj"
      },
      "outputs": [],
      "source": [
        "def fcn8_decoder(convs, n_classes):\n",
        "  # features from the encoder stage\n",
        "  f3, f4, f5 = convs\n",
        "\n",
        "  # number of filters\n",
        "  n = 512\n",
        "\n",
        "  # add convolutional layers on top of the CNN extractor.\n",
        "  o = tf.keras.layers.Conv2D(n , (7 , 7) , activation='relu' , padding='same', name=\"conv6\", data_format=IMAGE_ORDERING)(f5)\n",
        "  o = tf.keras.layers.Dropout(0.5)(o)\n",
        "\n",
        "  o = tf.keras.layers.Conv2D(n , (1 , 1) , activation='relu' , padding='same', name=\"conv7\", data_format=IMAGE_ORDERING)(o)\n",
        "  o = tf.keras.layers.Dropout(0.5)(o)\n",
        "\n",
        "  o = tf.keras.layers.Conv2D(n_classes,  (1, 1), activation='relu' , padding='same', data_format=IMAGE_ORDERING)(o)\n",
        "\n",
        "\n",
        "  ### START CODE HERE ###\n",
        "\n",
        "  # Upsample `o` above and crop any extra pixels introduced\n",
        "  o = tf.keras.layers.Conv2DTranspose(n_classes , kernel_size=(4,4) ,  strides=(2,2))(o)\n",
        "  o = tf.keras.layers.Cropping2D(cropping=(1,1))(o)\n",
        "\n",
        "  # load the pool 4 prediction and do a 1x1 convolution to reshape it to the same shape of `o` above\n",
        "  o2 = f4\n",
        "  o2 = ( tf.keras.layers.Conv2D(n_classes , ( 1 , 1 ) , activation='relu' , padding='same'))(o2)\n",
        "\n",
        "  # add the results of the upsampling and pool 4 prediction\n",
        "  o = tf.keras.layers.Add()([o, o2])\n",
        "\n",
        "  # upsample the resulting tensor of the operation you just did\n",
        "  o =  (tf.keras.layers.Conv2DTranspose( n_classes , kernel_size=(4,4) ,  strides=(2,2)))(o)\n",
        "  o = tf.keras.layers.Cropping2D(cropping=(1, 1))(o)\n",
        "\n",
        "  # load the pool 3 prediction and do a 1x1 convolution to reshape it to the same shape of `o` above\n",
        "  o2 =  f3\n",
        "  o2 = tf.keras.layers.Conv2D(n_classes , ( 1 , 1 ) , activation='relu' , padding='same', data_format=IMAGE_ORDERING)(o2)\n",
        "\n",
        "  # add the results of the upsampling and pool 3 prediction\n",
        "  o = tf.keras.layers.Add()([o, o2])\n",
        "\n",
        "  # upsample up to the size of the original image\n",
        "  o = tf.keras.layers.Conv2DTranspose(n_classes , kernel_size=(8,8) ,  strides=(8,8))(o)\n",
        "  o = tf.keras.layers.Cropping2D(((0, 0), (0, 96-84)))(o)\n",
        "\n",
        "  # append a sigmoid activation\n",
        "  o = (tf.keras.layers.Activation('softmax'))(o)\n",
        "  ### END CODE HERE ###\n",
        "\n",
        "  return o"
      ]
    },
    {
      "cell_type": "code",
      "execution_count": 22,
      "metadata": {
        "id": "lQHioDlR5K1_"
      },
      "outputs": [
        {
          "name": "stdout",
          "output_type": "stream",
          "text": [
            "(None, 64, 84, 11)\n"
          ]
        }
      ],
      "source": [
        "# TEST CODE\n",
        "\n",
        "test_convs, test_img_input = FCN8()\n",
        "test_fcn8_decoder = fcn8_decoder(test_convs, 11)\n",
        "\n",
        "print(test_fcn8_decoder.shape)\n",
        "\n",
        "del test_convs, test_img_input, test_fcn8_decoder"
      ]
    },
    {
      "cell_type": "markdown",
      "metadata": {
        "id": "C1qTwTX-5fwH"
      },
      "source": [
        "**Expected Output:**\n",
        "\n",
        "```txt\n",
        "(None, 64, 84, 11)\n",
        "```"
      ]
    },
    {
      "cell_type": "markdown",
      "metadata": {
        "id": "cJOhQz86Qk6n"
      },
      "source": [
        "### Define the Complete Model\n",
        "\n",
        "The downsampling and upsampling paths can now be combined as shown below."
      ]
    },
    {
      "cell_type": "code",
      "execution_count": 23,
      "metadata": {
        "id": "9EJEf484312h",
        "lines_to_next_cell": 2
      },
      "outputs": [],
      "source": [
        "# start the encoder using the default input size 64 x 84\n",
        "convs, img_input = FCN8()\n",
        "\n",
        "# pass the convolutions obtained in the encoder to the decoder\n",
        "dec_op = fcn8_decoder(convs, n_classes)\n",
        "\n",
        "# define the model specifying the input (batch of images) and output (decoder output)\n",
        "model = tf.keras.Model(inputs = img_input, outputs = dec_op)"
      ]
    },
    {
      "cell_type": "code",
      "execution_count": 24,
      "metadata": {
        "id": "2GAenp1M4gXx"
      },
      "outputs": [
        {
          "name": "stdout",
          "output_type": "stream",
          "text": [
            "Model: \"model_2\"\n",
            "__________________________________________________________________________________________________\n",
            " Layer (type)                   Output Shape         Param #     Connected to                     \n",
            "==================================================================================================\n",
            " input_4 (InputLayer)           [(None, 64, 84, 1)]  0           []                               \n",
            "                                                                                                  \n",
            " zero_padding2d_2 (ZeroPadding2  (None, 64, 96, 1)   0           ['input_4[0][0]']                \n",
            " D)                                                                                               \n",
            "                                                                                                  \n",
            " conv2d_25 (Conv2D)             (None, 64, 96, 32)   160         ['zero_padding2d_2[0][0]']       \n",
            "                                                                                                  \n",
            " leaky_re_lu_22 (LeakyReLU)     (None, 64, 96, 32)   0           ['conv2d_25[0][0]']              \n",
            "                                                                                                  \n",
            " conv2d_26 (Conv2D)             (None, 64, 96, 32)   4128        ['leaky_re_lu_22[0][0]']         \n",
            "                                                                                                  \n",
            " leaky_re_lu_23 (LeakyReLU)     (None, 64, 96, 32)   0           ['conv2d_26[0][0]']              \n",
            "                                                                                                  \n",
            " max_pooling2d_11 (MaxPooling2D  (None, 32, 48, 32)  0           ['leaky_re_lu_23[0][0]']         \n",
            " )                                                                                                \n",
            "                                                                                                  \n",
            " batch_normalization_11 (BatchN  (None, 32, 48, 32)  128         ['max_pooling2d_11[0][0]']       \n",
            " ormalization)                                                                                    \n",
            "                                                                                                  \n",
            " conv2d_27 (Conv2D)             (None, 32, 48, 64)   8256        ['batch_normalization_11[0][0]'] \n",
            "                                                                                                  \n",
            " leaky_re_lu_24 (LeakyReLU)     (None, 32, 48, 64)   0           ['conv2d_27[0][0]']              \n",
            "                                                                                                  \n",
            " conv2d_28 (Conv2D)             (None, 32, 48, 64)   16448       ['leaky_re_lu_24[0][0]']         \n",
            "                                                                                                  \n",
            " leaky_re_lu_25 (LeakyReLU)     (None, 32, 48, 64)   0           ['conv2d_28[0][0]']              \n",
            "                                                                                                  \n",
            " max_pooling2d_12 (MaxPooling2D  (None, 16, 24, 64)  0           ['leaky_re_lu_25[0][0]']         \n",
            " )                                                                                                \n",
            "                                                                                                  \n",
            " batch_normalization_12 (BatchN  (None, 16, 24, 64)  256         ['max_pooling2d_12[0][0]']       \n",
            " ormalization)                                                                                    \n",
            "                                                                                                  \n",
            " conv2d_29 (Conv2D)             (None, 16, 24, 128)  32896       ['batch_normalization_12[0][0]'] \n",
            "                                                                                                  \n",
            " leaky_re_lu_26 (LeakyReLU)     (None, 16, 24, 128)  0           ['conv2d_29[0][0]']              \n",
            "                                                                                                  \n",
            " conv2d_30 (Conv2D)             (None, 16, 24, 128)  65664       ['leaky_re_lu_26[0][0]']         \n",
            "                                                                                                  \n",
            " leaky_re_lu_27 (LeakyReLU)     (None, 16, 24, 128)  0           ['conv2d_30[0][0]']              \n",
            "                                                                                                  \n",
            " max_pooling2d_13 (MaxPooling2D  (None, 8, 12, 128)  0           ['leaky_re_lu_27[0][0]']         \n",
            " )                                                                                                \n",
            "                                                                                                  \n",
            " batch_normalization_13 (BatchN  (None, 8, 12, 128)  512         ['max_pooling2d_13[0][0]']       \n",
            " ormalization)                                                                                    \n",
            "                                                                                                  \n",
            " conv2d_31 (Conv2D)             (None, 8, 12, 256)   131328      ['batch_normalization_13[0][0]'] \n",
            "                                                                                                  \n",
            " leaky_re_lu_28 (LeakyReLU)     (None, 8, 12, 256)   0           ['conv2d_31[0][0]']              \n",
            "                                                                                                  \n",
            " conv2d_32 (Conv2D)             (None, 8, 12, 256)   262400      ['leaky_re_lu_28[0][0]']         \n",
            "                                                                                                  \n",
            " leaky_re_lu_29 (LeakyReLU)     (None, 8, 12, 256)   0           ['conv2d_32[0][0]']              \n",
            "                                                                                                  \n",
            " max_pooling2d_14 (MaxPooling2D  (None, 4, 6, 256)   0           ['leaky_re_lu_29[0][0]']         \n",
            " )                                                                                                \n",
            "                                                                                                  \n",
            " batch_normalization_14 (BatchN  (None, 4, 6, 256)   1024        ['max_pooling2d_14[0][0]']       \n",
            " ormalization)                                                                                    \n",
            "                                                                                                  \n",
            " conv2d_33 (Conv2D)             (None, 4, 6, 256)    262400      ['batch_normalization_14[0][0]'] \n",
            "                                                                                                  \n",
            " leaky_re_lu_30 (LeakyReLU)     (None, 4, 6, 256)    0           ['conv2d_33[0][0]']              \n",
            "                                                                                                  \n",
            " conv2d_34 (Conv2D)             (None, 4, 6, 256)    262400      ['leaky_re_lu_30[0][0]']         \n",
            "                                                                                                  \n",
            " leaky_re_lu_31 (LeakyReLU)     (None, 4, 6, 256)    0           ['conv2d_34[0][0]']              \n",
            "                                                                                                  \n",
            " max_pooling2d_15 (MaxPooling2D  (None, 2, 3, 256)   0           ['leaky_re_lu_31[0][0]']         \n",
            " )                                                                                                \n",
            "                                                                                                  \n",
            " batch_normalization_15 (BatchN  (None, 2, 3, 256)   1024        ['max_pooling2d_15[0][0]']       \n",
            " ormalization)                                                                                    \n",
            "                                                                                                  \n",
            " conv6 (Conv2D)                 (None, 2, 3, 512)    6423040     ['batch_normalization_15[0][0]'] \n",
            "                                                                                                  \n",
            " dropout_2 (Dropout)            (None, 2, 3, 512)    0           ['conv6[0][0]']                  \n",
            "                                                                                                  \n",
            " conv7 (Conv2D)                 (None, 2, 3, 512)    262656      ['dropout_2[0][0]']              \n",
            "                                                                                                  \n",
            " dropout_3 (Dropout)            (None, 2, 3, 512)    0           ['conv7[0][0]']                  \n",
            "                                                                                                  \n",
            " conv2d_35 (Conv2D)             (None, 2, 3, 11)     5643        ['dropout_3[0][0]']              \n",
            "                                                                                                  \n",
            " conv2d_transpose_3 (Conv2DTran  (None, 6, 8, 11)    1947        ['conv2d_35[0][0]']              \n",
            " spose)                                                                                           \n",
            "                                                                                                  \n",
            " cropping2d_3 (Cropping2D)      (None, 4, 6, 11)     0           ['conv2d_transpose_3[0][0]']     \n",
            "                                                                                                  \n",
            " conv2d_36 (Conv2D)             (None, 4, 6, 11)     2827        ['batch_normalization_14[0][0]'] \n",
            "                                                                                                  \n",
            " add_2 (Add)                    (None, 4, 6, 11)     0           ['cropping2d_3[0][0]',           \n",
            "                                                                  'conv2d_36[0][0]']              \n",
            "                                                                                                  \n",
            " conv2d_transpose_4 (Conv2DTran  (None, 10, 14, 11)  1947        ['add_2[0][0]']                  \n",
            " spose)                                                                                           \n",
            "                                                                                                  \n",
            " cropping2d_4 (Cropping2D)      (None, 8, 12, 11)    0           ['conv2d_transpose_4[0][0]']     \n",
            "                                                                                                  \n",
            " conv2d_37 (Conv2D)             (None, 8, 12, 11)    1419        ['batch_normalization_13[0][0]'] \n",
            "                                                                                                  \n",
            " add_3 (Add)                    (None, 8, 12, 11)    0           ['cropping2d_4[0][0]',           \n",
            "                                                                  'conv2d_37[0][0]']              \n",
            "                                                                                                  \n",
            " conv2d_transpose_5 (Conv2DTran  (None, 64, 96, 11)  7755        ['add_3[0][0]']                  \n",
            " spose)                                                                                           \n",
            "                                                                                                  \n",
            " cropping2d_5 (Cropping2D)      (None, 64, 84, 11)   0           ['conv2d_transpose_5[0][0]']     \n",
            "                                                                                                  \n",
            " activation_1 (Activation)      (None, 64, 84, 11)   0           ['cropping2d_5[0][0]']           \n",
            "                                                                                                  \n",
            "==================================================================================================\n",
            "Total params: 7,756,258\n",
            "Trainable params: 7,754,786\n",
            "Non-trainable params: 1,472\n",
            "__________________________________________________________________________________________________\n"
          ]
        }
      ],
      "source": [
        "model.summary()"
      ]
    },
    {
      "cell_type": "markdown",
      "metadata": {
        "id": "wAAXygZtbZmu"
      },
      "source": [
        "## Compile the Model"
      ]
    },
    {
      "cell_type": "markdown",
      "metadata": {
        "id": "sC-9m1R_5tjV"
      },
      "source": [
        "<a name='exercise-4'></a>\n",
        "\n",
        "### **Exercise 4**\n",
        "\n",
        "Compile the model using an appropriate loss, optimizer, and metric.\n",
        "\n",
        "_**Note:** There is a current issue with the grader accepting certain loss functions. We will be upgrading it but while in progress, please use this syntax:_\n",
        "\n",
        "```\n",
        "loss='<loss string name>'\n",
        "```\n",
        "\n",
        "*instead of:*\n",
        "\n",
        "```\n",
        "loss=tf.keras.losses.<StringCassName>\n",
        "```\n",
        "\n"
      ]
    },
    {
      "cell_type": "code",
      "execution_count": 25,
      "metadata": {
        "id": "ZpWpp8h4g_rE"
      },
      "outputs": [],
      "source": [
        "### START CODE HERE ###\n",
        "model.compile(loss='categorical_crossentropy', optimizer=tf.keras.optimizers.SGD(learning_rate=1E-2, momentum=0.9, nesterov=True),\n",
        "              metrics=['accuracy'])\n",
        "### END CODE HERE ###"
      ]
    },
    {
      "cell_type": "markdown",
      "metadata": {
        "id": "510v0aVDXv1f"
      },
      "source": [
        "## Model Training"
      ]
    },
    {
      "cell_type": "markdown",
      "metadata": {
        "id": "1udK8qps6PcG"
      },
      "source": [
        "<a name='exercise-5'></a>\n",
        "\n",
        "### **Exercise 5**\n",
        "\n",
        "You can now train the model. Set the number of epochs and observe the metrics returned at each iteration. You can also terminate the cell execution if you think your model is performing well already."
      ]
    },
    {
      "cell_type": "code",
      "execution_count": 26,
      "metadata": {
        "id": "8HoZwpGWhMB-"
      },
      "outputs": [
        {
          "name": "stdout",
          "output_type": "stream",
          "text": [
            "Epoch 1/120\n",
            "125/125 [==============================] - 77s 599ms/step - loss: 0.7104 - accuracy: 0.9055 - val_loss: 0.3658 - val_accuracy: 0.9413\n",
            "Epoch 2/120\n",
            "125/125 [==============================] - 75s 603ms/step - loss: 0.2649 - accuracy: 0.9428 - val_loss: 0.3162 - val_accuracy: 0.9413\n",
            "Epoch 3/120\n",
            "125/125 [==============================] - 78s 625ms/step - loss: 0.2450 - accuracy: 0.9428 - val_loss: 0.2771 - val_accuracy: 0.9413\n",
            "Epoch 4/120\n",
            "125/125 [==============================] - 84s 675ms/step - loss: 0.2355 - accuracy: 0.9428 - val_loss: 0.2508 - val_accuracy: 0.9413\n",
            "Epoch 5/120\n",
            "125/125 [==============================] - 81s 649ms/step - loss: 0.2298 - accuracy: 0.9428 - val_loss: 0.2362 - val_accuracy: 0.9413\n",
            "Epoch 6/120\n",
            "125/125 [==============================] - 78s 626ms/step - loss: 0.2255 - accuracy: 0.9428 - val_loss: 0.2295 - val_accuracy: 0.9413\n",
            "Epoch 7/120\n",
            "125/125 [==============================] - 78s 624ms/step - loss: 0.2217 - accuracy: 0.9428 - val_loss: 0.2251 - val_accuracy: 0.9413\n",
            "Epoch 8/120\n",
            "125/125 [==============================] - 82s 655ms/step - loss: 0.2181 - accuracy: 0.9428 - val_loss: 0.2218 - val_accuracy: 0.9413\n",
            "Epoch 9/120\n",
            "125/125 [==============================] - 80s 640ms/step - loss: 0.2147 - accuracy: 0.9428 - val_loss: 0.2181 - val_accuracy: 0.9413\n",
            "Epoch 10/120\n",
            "125/125 [==============================] - 77s 620ms/step - loss: 0.2114 - accuracy: 0.9428 - val_loss: 0.2149 - val_accuracy: 0.9413\n",
            "Epoch 11/120\n",
            "125/125 [==============================] - 77s 613ms/step - loss: 0.2084 - accuracy: 0.9428 - val_loss: 0.2118 - val_accuracy: 0.9413\n",
            "Epoch 12/120\n",
            "125/125 [==============================] - 78s 628ms/step - loss: 0.2056 - accuracy: 0.9428 - val_loss: 0.2090 - val_accuracy: 0.9413\n",
            "Epoch 13/120\n",
            "125/125 [==============================] - 78s 620ms/step - loss: 0.2030 - accuracy: 0.9428 - val_loss: 0.2065 - val_accuracy: 0.9413\n",
            "Epoch 14/120\n",
            "125/125 [==============================] - 75s 597ms/step - loss: 0.2007 - accuracy: 0.9428 - val_loss: 0.2042 - val_accuracy: 0.9413\n",
            "Epoch 15/120\n",
            "125/125 [==============================] - 77s 613ms/step - loss: 0.1985 - accuracy: 0.9429 - val_loss: 0.2021 - val_accuracy: 0.9414\n",
            "Epoch 16/120\n",
            "125/125 [==============================] - 76s 612ms/step - loss: 0.1966 - accuracy: 0.9429 - val_loss: 0.2003 - val_accuracy: 0.9414\n",
            "Epoch 17/120\n",
            "125/125 [==============================] - 78s 621ms/step - loss: 0.1949 - accuracy: 0.9429 - val_loss: 0.1986 - val_accuracy: 0.9415\n",
            "Epoch 18/120\n",
            "125/125 [==============================] - 76s 612ms/step - loss: 0.1934 - accuracy: 0.9430 - val_loss: 0.1972 - val_accuracy: 0.9415\n",
            "Epoch 19/120\n",
            "125/125 [==============================] - 76s 612ms/step - loss: 0.1920 - accuracy: 0.9430 - val_loss: 0.1959 - val_accuracy: 0.9416\n",
            "Epoch 20/120\n",
            "125/125 [==============================] - 76s 609ms/step - loss: 0.1907 - accuracy: 0.9431 - val_loss: 0.1948 - val_accuracy: 0.9416\n",
            "Epoch 21/120\n",
            "125/125 [==============================] - 76s 611ms/step - loss: 0.1896 - accuracy: 0.9432 - val_loss: 0.1936 - val_accuracy: 0.9417\n",
            "Epoch 22/120\n",
            "125/125 [==============================] - 74s 596ms/step - loss: 0.1885 - accuracy: 0.9432 - val_loss: 0.1926 - val_accuracy: 0.9418\n",
            "Epoch 23/120\n",
            "125/125 [==============================] - 76s 607ms/step - loss: 0.1876 - accuracy: 0.9433 - val_loss: 0.1917 - val_accuracy: 0.9419\n",
            "Epoch 24/120\n",
            "125/125 [==============================] - 76s 611ms/step - loss: 0.1867 - accuracy: 0.9434 - val_loss: 0.1908 - val_accuracy: 0.9420\n",
            "Epoch 25/120\n",
            "125/125 [==============================] - 76s 611ms/step - loss: 0.1858 - accuracy: 0.9435 - val_loss: 0.1901 - val_accuracy: 0.9421\n",
            "Epoch 26/120\n",
            "125/125 [==============================] - 77s 613ms/step - loss: 0.1850 - accuracy: 0.9436 - val_loss: 0.1893 - val_accuracy: 0.9422\n",
            "Epoch 27/120\n",
            "125/125 [==============================] - 75s 603ms/step - loss: 0.1843 - accuracy: 0.9437 - val_loss: 0.1885 - val_accuracy: 0.9423\n",
            "Epoch 28/120\n",
            "125/125 [==============================] - 75s 601ms/step - loss: 0.1835 - accuracy: 0.9438 - val_loss: 0.1878 - val_accuracy: 0.9424\n",
            "Epoch 29/120\n",
            "125/125 [==============================] - 78s 621ms/step - loss: 0.1828 - accuracy: 0.9439 - val_loss: 0.1871 - val_accuracy: 0.9425\n",
            "Epoch 30/120\n",
            "125/125 [==============================] - 76s 604ms/step - loss: 0.1821 - accuracy: 0.9440 - val_loss: 0.1864 - val_accuracy: 0.9426\n",
            "Epoch 31/120\n",
            "125/125 [==============================] - 76s 611ms/step - loss: 0.1814 - accuracy: 0.9442 - val_loss: 0.1857 - val_accuracy: 0.9427\n",
            "Epoch 32/120\n",
            "125/125 [==============================] - 76s 608ms/step - loss: 0.1807 - accuracy: 0.9443 - val_loss: 0.1850 - val_accuracy: 0.9428\n",
            "Epoch 33/120\n",
            "125/125 [==============================] - 76s 606ms/step - loss: 0.1801 - accuracy: 0.9444 - val_loss: 0.1843 - val_accuracy: 0.9430\n",
            "Epoch 34/120\n",
            "125/125 [==============================] - 76s 605ms/step - loss: 0.1794 - accuracy: 0.9445 - val_loss: 0.1837 - val_accuracy: 0.9431\n",
            "Epoch 35/120\n",
            "125/125 [==============================] - 76s 609ms/step - loss: 0.1787 - accuracy: 0.9447 - val_loss: 0.1829 - val_accuracy: 0.9432\n",
            "Epoch 36/120\n",
            "125/125 [==============================] - 75s 602ms/step - loss: 0.1779 - accuracy: 0.9448 - val_loss: 0.1822 - val_accuracy: 0.9434\n",
            "Epoch 37/120\n",
            "125/125 [==============================] - 80s 640ms/step - loss: 0.1772 - accuracy: 0.9450 - val_loss: 0.1814 - val_accuracy: 0.9435\n",
            "Epoch 38/120\n",
            "125/125 [==============================] - 85s 678ms/step - loss: 0.1765 - accuracy: 0.9451 - val_loss: 0.1807 - val_accuracy: 0.9436\n",
            "Epoch 39/120\n",
            "125/125 [==============================] - 89s 708ms/step - loss: 0.1757 - accuracy: 0.9453 - val_loss: 0.1799 - val_accuracy: 0.9438\n",
            "Epoch 40/120\n",
            "125/125 [==============================] - 86s 689ms/step - loss: 0.1749 - accuracy: 0.9455 - val_loss: 0.1790 - val_accuracy: 0.9440\n",
            "Epoch 41/120\n",
            "125/125 [==============================] - 82s 658ms/step - loss: 0.1740 - accuracy: 0.9457 - val_loss: 0.1782 - val_accuracy: 0.9442\n",
            "Epoch 42/120\n",
            "125/125 [==============================] - 96s 768ms/step - loss: 0.1731 - accuracy: 0.9459 - val_loss: 0.1773 - val_accuracy: 0.9444\n",
            "Epoch 43/120\n",
            "125/125 [==============================] - 114s 911ms/step - loss: 0.1721 - accuracy: 0.9461 - val_loss: 0.1762 - val_accuracy: 0.9447\n",
            "Epoch 44/120\n",
            "125/125 [==============================] - 72s 579ms/step - loss: 0.1710 - accuracy: 0.9463 - val_loss: 0.1752 - val_accuracy: 0.9450\n",
            "Epoch 45/120\n",
            "125/125 [==============================] - 74s 596ms/step - loss: 0.1699 - accuracy: 0.9466 - val_loss: 0.1739 - val_accuracy: 0.9452\n",
            "Epoch 46/120\n",
            "125/125 [==============================] - 77s 620ms/step - loss: 0.1686 - accuracy: 0.9469 - val_loss: 0.1725 - val_accuracy: 0.9455\n",
            "Epoch 47/120\n",
            "125/125 [==============================] - 86s 685ms/step - loss: 0.1671 - accuracy: 0.9472 - val_loss: 0.1709 - val_accuracy: 0.9458\n",
            "Epoch 48/120\n",
            "125/125 [==============================] - 79s 634ms/step - loss: 0.1655 - accuracy: 0.9475 - val_loss: 0.1693 - val_accuracy: 0.9462\n",
            "Epoch 49/120\n",
            "125/125 [==============================] - 79s 636ms/step - loss: 0.1637 - accuracy: 0.9479 - val_loss: 0.1675 - val_accuracy: 0.9467\n",
            "Epoch 50/120\n",
            "125/125 [==============================] - 80s 642ms/step - loss: 0.1617 - accuracy: 0.9483 - val_loss: 0.1651 - val_accuracy: 0.9470\n",
            "Epoch 51/120\n",
            "125/125 [==============================] - 80s 639ms/step - loss: 0.1594 - accuracy: 0.9488 - val_loss: 0.1627 - val_accuracy: 0.9475\n",
            "Epoch 52/120\n",
            "125/125 [==============================] - 79s 635ms/step - loss: 0.1569 - accuracy: 0.9492 - val_loss: 0.1601 - val_accuracy: 0.9479\n",
            "Epoch 53/120\n",
            "125/125 [==============================] - 79s 632ms/step - loss: 0.1543 - accuracy: 0.9498 - val_loss: 0.1573 - val_accuracy: 0.9485\n",
            "Epoch 54/120\n",
            "125/125 [==============================] - 77s 614ms/step - loss: 0.1515 - accuracy: 0.9504 - val_loss: 0.1549 - val_accuracy: 0.9494\n",
            "Epoch 55/120\n",
            "125/125 [==============================] - 79s 633ms/step - loss: 0.1487 - accuracy: 0.9510 - val_loss: 0.1516 - val_accuracy: 0.9497\n",
            "Epoch 56/120\n",
            "125/125 [==============================] - 80s 637ms/step - loss: 0.1458 - accuracy: 0.9517 - val_loss: 0.1487 - val_accuracy: 0.9503\n",
            "Epoch 57/120\n",
            "125/125 [==============================] - 77s 614ms/step - loss: 0.1428 - accuracy: 0.9524 - val_loss: 0.1457 - val_accuracy: 0.9511\n",
            "Epoch 58/120\n",
            "125/125 [==============================] - 75s 602ms/step - loss: 0.1400 - accuracy: 0.9531 - val_loss: 0.1426 - val_accuracy: 0.9519\n",
            "Epoch 59/120\n",
            "125/125 [==============================] - 75s 599ms/step - loss: 0.1371 - accuracy: 0.9539 - val_loss: 0.1400 - val_accuracy: 0.9524\n",
            "Epoch 60/120\n",
            "125/125 [==============================] - 75s 599ms/step - loss: 0.1344 - accuracy: 0.9546 - val_loss: 0.1371 - val_accuracy: 0.9532\n",
            "Epoch 61/120\n",
            "125/125 [==============================] - 75s 602ms/step - loss: 0.1315 - accuracy: 0.9554 - val_loss: 0.1349 - val_accuracy: 0.9544\n",
            "Epoch 62/120\n",
            "125/125 [==============================] - 75s 602ms/step - loss: 0.1289 - accuracy: 0.9560 - val_loss: 0.1322 - val_accuracy: 0.9551\n",
            "Epoch 63/120\n",
            "125/125 [==============================] - 76s 606ms/step - loss: 0.1263 - accuracy: 0.9568 - val_loss: 0.1292 - val_accuracy: 0.9557\n",
            "Epoch 64/120\n",
            "125/125 [==============================] - 75s 597ms/step - loss: 0.1238 - accuracy: 0.9576 - val_loss: 0.1273 - val_accuracy: 0.9558\n",
            "Epoch 65/120\n",
            "125/125 [==============================] - 75s 604ms/step - loss: 0.1213 - accuracy: 0.9584 - val_loss: 0.1242 - val_accuracy: 0.9569\n",
            "Epoch 66/120\n",
            "125/125 [==============================] - 83s 663ms/step - loss: 0.1190 - accuracy: 0.9591 - val_loss: 0.1231 - val_accuracy: 0.9571\n",
            "Epoch 67/120\n",
            "125/125 [==============================] - 82s 653ms/step - loss: 0.1166 - accuracy: 0.9599 - val_loss: 0.1225 - val_accuracy: 0.9570\n",
            "Epoch 68/120\n",
            "125/125 [==============================] - 76s 606ms/step - loss: 0.1142 - accuracy: 0.9606 - val_loss: 0.1176 - val_accuracy: 0.9591\n",
            "Epoch 69/120\n",
            "125/125 [==============================] - 75s 604ms/step - loss: 0.1120 - accuracy: 0.9613 - val_loss: 0.1151 - val_accuracy: 0.9601\n",
            "Epoch 70/120\n",
            "125/125 [==============================] - 81s 649ms/step - loss: 0.1097 - accuracy: 0.9622 - val_loss: 0.1142 - val_accuracy: 0.9599\n",
            "Epoch 71/120\n",
            "125/125 [==============================] - 84s 671ms/step - loss: 0.1076 - accuracy: 0.9628 - val_loss: 0.1141 - val_accuracy: 0.9596\n",
            "Epoch 72/120\n",
            "125/125 [==============================] - 84s 673ms/step - loss: 0.1058 - accuracy: 0.9634 - val_loss: 0.1088 - val_accuracy: 0.9624\n",
            "Epoch 73/120\n",
            "125/125 [==============================] - 80s 638ms/step - loss: 0.1035 - accuracy: 0.9642 - val_loss: 0.1081 - val_accuracy: 0.9623\n",
            "Epoch 74/120\n",
            "125/125 [==============================] - 80s 637ms/step - loss: 0.1015 - accuracy: 0.9648 - val_loss: 0.1074 - val_accuracy: 0.9623\n",
            "Epoch 75/120\n",
            "125/125 [==============================] - 82s 653ms/step - loss: 0.0998 - accuracy: 0.9655 - val_loss: 0.1036 - val_accuracy: 0.9642\n",
            "Epoch 76/120\n",
            "125/125 [==============================] - 85s 680ms/step - loss: 0.0978 - accuracy: 0.9661 - val_loss: 0.1030 - val_accuracy: 0.9641\n",
            "Epoch 77/120\n",
            "125/125 [==============================] - 79s 635ms/step - loss: 0.0961 - accuracy: 0.9667 - val_loss: 0.1034 - val_accuracy: 0.9637\n",
            "Epoch 78/120\n",
            "125/125 [==============================] - 76s 605ms/step - loss: 0.0943 - accuracy: 0.9672 - val_loss: 0.0993 - val_accuracy: 0.9653\n",
            "Epoch 79/120\n",
            "125/125 [==============================] - 75s 603ms/step - loss: 0.0928 - accuracy: 0.9678 - val_loss: 0.1078 - val_accuracy: 0.9611\n",
            "Epoch 80/120\n",
            "125/125 [==============================] - 73s 586ms/step - loss: 0.0910 - accuracy: 0.9684 - val_loss: 0.1016 - val_accuracy: 0.9639\n",
            "Epoch 81/120\n",
            "125/125 [==============================] - 75s 600ms/step - loss: 0.0893 - accuracy: 0.9690 - val_loss: 0.0944 - val_accuracy: 0.9673\n",
            "Epoch 82/120\n",
            "125/125 [==============================] - 75s 602ms/step - loss: 0.0880 - accuracy: 0.9694 - val_loss: 0.0949 - val_accuracy: 0.9669\n",
            "Epoch 83/120\n",
            "125/125 [==============================] - 74s 588ms/step - loss: 0.0864 - accuracy: 0.9699 - val_loss: 0.0933 - val_accuracy: 0.9673\n",
            "Epoch 84/120\n",
            "125/125 [==============================] - 75s 598ms/step - loss: 0.0846 - accuracy: 0.9705 - val_loss: 0.0933 - val_accuracy: 0.9667\n",
            "Epoch 85/120\n",
            "125/125 [==============================] - 73s 588ms/step - loss: 0.0834 - accuracy: 0.9709 - val_loss: 0.0894 - val_accuracy: 0.9691\n",
            "Epoch 86/120\n",
            "125/125 [==============================] - 75s 597ms/step - loss: 0.0820 - accuracy: 0.9713 - val_loss: 0.0904 - val_accuracy: 0.9682\n",
            "Epoch 87/120\n",
            "125/125 [==============================] - 77s 618ms/step - loss: 0.0807 - accuracy: 0.9718 - val_loss: 0.0872 - val_accuracy: 0.9694\n",
            "Epoch 88/120\n",
            "125/125 [==============================] - 77s 612ms/step - loss: 0.0793 - accuracy: 0.9722 - val_loss: 0.0890 - val_accuracy: 0.9690\n",
            "Epoch 89/120\n",
            "125/125 [==============================] - 77s 617ms/step - loss: 0.0782 - accuracy: 0.9725 - val_loss: 0.0860 - val_accuracy: 0.9695\n",
            "Epoch 90/120\n",
            "125/125 [==============================] - 77s 617ms/step - loss: 0.0775 - accuracy: 0.9728 - val_loss: 0.0857 - val_accuracy: 0.9699\n",
            "Epoch 91/120\n",
            "125/125 [==============================] - 78s 627ms/step - loss: 0.0757 - accuracy: 0.9734 - val_loss: 0.0843 - val_accuracy: 0.9703\n",
            "Epoch 92/120\n",
            "125/125 [==============================] - 75s 602ms/step - loss: 0.0745 - accuracy: 0.9737 - val_loss: 0.0829 - val_accuracy: 0.9710\n",
            "Epoch 93/120\n",
            "125/125 [==============================] - 74s 591ms/step - loss: 0.0735 - accuracy: 0.9740 - val_loss: 0.0845 - val_accuracy: 0.9697\n",
            "Epoch 94/120\n",
            "125/125 [==============================] - 79s 633ms/step - loss: 0.0726 - accuracy: 0.9743 - val_loss: 0.0813 - val_accuracy: 0.9712\n",
            "Epoch 95/120\n",
            "125/125 [==============================] - 75s 597ms/step - loss: 0.0718 - accuracy: 0.9745 - val_loss: 0.0813 - val_accuracy: 0.9715\n",
            "Epoch 96/120\n",
            "125/125 [==============================] - 78s 624ms/step - loss: 0.0707 - accuracy: 0.9748 - val_loss: 0.0802 - val_accuracy: 0.9717\n",
            "Epoch 97/120\n",
            "125/125 [==============================] - 82s 656ms/step - loss: 0.0695 - accuracy: 0.9753 - val_loss: 0.0788 - val_accuracy: 0.9720\n",
            "Epoch 98/120\n",
            "125/125 [==============================] - 80s 644ms/step - loss: 0.0688 - accuracy: 0.9754 - val_loss: 0.0802 - val_accuracy: 0.9710\n",
            "Epoch 99/120\n",
            "125/125 [==============================] - 83s 667ms/step - loss: 0.0678 - accuracy: 0.9758 - val_loss: 0.0834 - val_accuracy: 0.9707\n",
            "Epoch 100/120\n",
            " 71/125 [================>.............] - ETA: 35s - loss: 0.0668 - accuracy: 0.9761"
          ]
        }
      ],
      "source": [
        "# OTHER THAN SETTING THE EPOCHS NUMBER, DO NOT CHANGE ANY OTHER CODE\n",
        "\n",
        "### START CODE HERE ###\n",
        "EPOCHS = 120\n",
        "### END CODE HERE ###\n",
        "\n",
        "steps_per_epoch = 4000//BATCH_SIZE\n",
        "validation_steps = 800//BATCH_SIZE\n",
        "test_steps = 200//BATCH_SIZE\n",
        "\n",
        "\n",
        "history = model.fit(training_dataset,\n",
        "                    steps_per_epoch=steps_per_epoch, validation_data=validation_dataset, validation_steps=validation_steps, epochs=EPOCHS)\n",
        "\n",
        "model.save(\"temp_model.keras\")\n",
        "from tensorflow.keras.models import load_model\n"
      ]
    },
    {
      "cell_type": "markdown",
      "metadata": {
        "id": "BLNzLB3peeNG"
      },
      "source": [
        "**Expected Output:**\n",
        "\n",
        "The losses should generally be decreasing and the accuracies should generally be increasing. For example, observing the first 4 epochs should output something similar:\n",
        "\n",
        "```txt\n",
        "Epoch 1/70\n",
        "125/125 [==============================] - 6s 50ms/step - loss: 0.5542 - accuracy: 0.8635 - val_loss: 0.5335 - val_accuracy: 0.9427\n",
        "Epoch 2/70\n",
        "125/125 [==============================] - 6s 47ms/step - loss: 0.2315 - accuracy: 0.9425 - val_loss: 0.3362 - val_accuracy: 0.9427\n",
        "Epoch 3/70\n",
        "125/125 [==============================] - 6s 47ms/step - loss: 0.2118 - accuracy: 0.9426 - val_loss: 0.2592 - val_accuracy: 0.9427\n",
        "Epoch 4/70\n",
        "125/125 [==============================] - 6s 47ms/step - loss: 0.1782 - accuracy: 0.9431 - val_loss: 0.1770 - val_accuracy: 0.9432\n",
        "```"
      ]
    },
    {
      "cell_type": "markdown",
      "metadata": {
        "id": "eih-Q7GoXzJe"
      },
      "source": [
        "## Model Evaluation"
      ]
    },
    {
      "cell_type": "markdown",
      "metadata": {
        "id": "2bTkaFM2X1gr"
      },
      "source": [
        "### Make Predictions\n",
        "\n",
        "Let's get the predictions using our test dataset as input and print the shape."
      ]
    },
    {
      "cell_type": "code",
      "execution_count": null,
      "metadata": {
        "id": "zENjQuK0luH5"
      },
      "outputs": [
        {
          "name": "stdout",
          "output_type": "stream",
          "text": [
            "\u001b[1m6/6\u001b[0m \u001b[32m━━━━━━━━━━━━━━━━━━━━\u001b[0m\u001b[37m\u001b[0m \u001b[1m1s\u001b[0m 75ms/step\n",
            "(192, 64, 84, 11)\n"
          ]
        }
      ],
      "source": [
        "results = model.predict(test_dataset, steps=test_steps)\n",
        "\n",
        "print(results.shape)"
      ]
    },
    {
      "cell_type": "markdown",
      "metadata": {
        "id": "IReKPT_DZHjA"
      },
      "source": [
        "As you can see, the resulting shape is `(192, 64, 84, 11)`. This means that for each of the 192 images that we have in our test set, there are 11 predictions generated (i.e. one for each class: 0 to 1 plus background)."
      ]
    },
    {
      "cell_type": "markdown",
      "metadata": {
        "id": "OBPBqnHyaSaG"
      },
      "source": [
        "Thus, if you want to see the *probability* of the upper leftmost pixel of the 1st image belonging to class 0, then you can print something like `results[0,0,0,0]`. If you want the probability of the same pixel at class 10, then do `results[0,0,0,10]`.\n",
        "\n",
        "\n"
      ]
    },
    {
      "cell_type": "code",
      "execution_count": null,
      "metadata": {
        "id": "jwFiR9WAf0Av"
      },
      "outputs": [
        {
          "name": "stdout",
          "output_type": "stream",
          "text": [
            "0.0002536376\n",
            "0.99685776\n"
          ]
        }
      ],
      "source": [
        "print(results[0,0,0,0])\n",
        "print(results[0,0,0,10])"
      ]
    },
    {
      "cell_type": "markdown",
      "metadata": {
        "id": "wKDsqzKEf28V"
      },
      "source": [
        "What we're interested in is to get the *index* of the highest probability of each of these 11 slices and combine them in a single image. We can do that by getting the [argmax](https://numpy.org/doc/stable/reference/generated/numpy.argmax.html) at this axis."
      ]
    },
    {
      "cell_type": "code",
      "execution_count": null,
      "metadata": {
        "id": "0_Uj_uuV9TQt"
      },
      "outputs": [
        {
          "name": "stdout",
          "output_type": "stream",
          "text": [
            "(192, 64, 84)\n"
          ]
        }
      ],
      "source": [
        "results = np.argmax(results, axis=3)\n",
        "\n",
        "print(results.shape)"
      ]
    },
    {
      "cell_type": "markdown",
      "metadata": {
        "id": "ClaGbOLhdKD2"
      },
      "source": [
        "The new array generated per image now only specifies the indices of the class with the highest probability. Let's see the output class of the upper most left pixel. As you might have observed earlier when you inspected the dataset, the upper left corner is usually just part of the background (class 10). The actual digits are written somewhere in the middle parts of the image."
      ]
    },
    {
      "cell_type": "code",
      "execution_count": null,
      "metadata": {
        "id": "aBeBwvHQd2pZ"
      },
      "outputs": [
        {
          "name": "stdout",
          "output_type": "stream",
          "text": [
            "10\n",
            "[[10 10 10 ... 10 10 10]\n",
            " [10 10 10 ... 10 10 10]\n",
            " [10 10 10 ... 10 10 10]\n",
            " ...\n",
            " [10 10 10 ... 10 10 10]\n",
            " [10 10 10 ... 10 10 10]\n",
            " [10 10 10 ... 10 10 10]]\n"
          ]
        }
      ],
      "source": [
        "print(results[0,0,0])\n",
        "\n",
        "# prediction map for image 0\n",
        "print(results[0,:,:])"
      ]
    },
    {
      "cell_type": "markdown",
      "metadata": {
        "id": "V3FxyNgrg7IE"
      },
      "source": [
        "We will use this `results` array when we evaluate our predictions."
      ]
    },
    {
      "cell_type": "markdown",
      "metadata": {
        "id": "hpKDUuAWX5Pj"
      },
      "source": [
        "### Metrics\n",
        "\n",
        "We showed in the lectures two ways to evaluate your predictions. The *intersection over union (IOU)* and the *dice score*. Recall that:\n",
        "\n",
        "$$IOU = \\frac{area\\_of\\_overlap}{area\\_of\\_union}$$\n",
        "<br>\n",
        "$$Dice Score = 2 * \\frac{area\\_of\\_overlap}{combined\\_area}$$\n",
        "\n",
        "The code below does that for you as you've also seen in the ungraded lab. A small smoothing factor is introduced in the denominators to prevent possible division by zero."
      ]
    },
    {
      "cell_type": "code",
      "execution_count": null,
      "metadata": {
        "id": "gKTpLmly_RXb"
      },
      "outputs": [],
      "source": [
        "def class_wise_metrics(y_true, y_pred):\n",
        "  '''\n",
        "  Computes the class-wise IOU and Dice Score.\n",
        "\n",
        "  Args:\n",
        "    y_true (tensor) - ground truth label maps\n",
        "    y_pred (tensor) - predicted label maps\n",
        "  '''\n",
        "  class_wise_iou = []\n",
        "  class_wise_dice_score = []\n",
        "\n",
        "  smoothing_factor = 0.00001\n",
        "\n",
        "  for i in range(n_classes):\n",
        "    intersection = np.sum((y_pred == i) * (y_true == i))\n",
        "    y_true_area = np.sum((y_true == i))\n",
        "    y_pred_area = np.sum((y_pred == i))\n",
        "    combined_area = y_true_area + y_pred_area\n",
        "\n",
        "    iou = (intersection) / (combined_area - intersection + smoothing_factor)\n",
        "    class_wise_iou.append(iou)\n",
        "\n",
        "    dice_score =  2 * ((intersection) / (combined_area + smoothing_factor))\n",
        "    class_wise_dice_score.append(dice_score)\n",
        "\n",
        "  return class_wise_iou, class_wise_dice_score\n"
      ]
    },
    {
      "cell_type": "markdown",
      "metadata": {
        "id": "FfWPwM4ZhHjE"
      },
      "source": [
        "### Visualize Predictions"
      ]
    },
    {
      "cell_type": "code",
      "execution_count": null,
      "metadata": {
        "id": "Hkbsk_P1fpRM",
        "lines_to_next_cell": 2
      },
      "outputs": [
        {
          "data": {
            "image/png": "[encoded data removed]",
            "text/plain": [
              "<Figure size 1500x400 with 3 Axes>"
            ]
          },
          "metadata": {},
          "output_type": "display_data"
        }
      ],
      "source": [
        "# place a number here between 0 to 191 to pick an image from the test set\n",
        "integer_slider = 105\n",
        "\n",
        "ds = test_dataset.unbatch()\n",
        "ds = ds.batch(200)\n",
        "images = []\n",
        "\n",
        "y_true_segments = []\n",
        "for image, annotation in ds.take(2):\n",
        "  y_true_segments = annotation\n",
        "  images = image\n",
        "\n",
        "\n",
        "iou, dice_score = class_wise_metrics(np.argmax(y_true_segments[integer_slider], axis=2), results[integer_slider])\n",
        "show_annotation_and_prediction(image[integer_slider], annotation[integer_slider], results[integer_slider], iou, dice_score)\n"
      ]
    },
    {
      "cell_type": "markdown",
      "metadata": {
        "id": "EiG9K4t6X9iZ"
      },
      "source": [
        "### Compute IOU Score and Dice Score of your model"
      ]
    },
    {
      "cell_type": "code",
      "execution_count": null,
      "metadata": {
        "id": "2706boF0CNNS",
        "lines_to_next_cell": 2
      },
      "outputs": [
        {
          "name": "stdout",
          "output_type": "stream",
          "text": [
            "Digit 0: IOU: 0.23529411716978882 Dice Score: 0.3809523803268434\n",
            "Digit 1: IOU: 0.30206090340799474 Dice Score: 0.46397354012763165\n",
            "Digit 2: IOU: 0.0947325435086462 Dice Score: 0.173069749447707\n",
            "Digit 3: IOU: 0.2718335613355429 Dice Score: 0.4274671931916822\n",
            "Digit 4: IOU: 0.07673494320778067 Dice Score: 0.14253265149763586\n",
            "Digit 5: IOU: 0.10579857551933221 Dice Score: 0.19135234546607097\n",
            "Digit 6: IOU: 0.3697189164171083 Dice Score: 0.5398464049605358\n",
            "Digit 7: IOU: 0.1905950890749166 Dice Score: 0.320167772946229\n",
            "Digit 8: IOU: 0.19185282472574816 Dice Score: 0.32194046235514784\n",
            "Digit 9: IOU: 0.08918503308768572 Dice Score: 0.16376470549702424\n",
            "\n",
            "Grade is 19.27806507454544\n",
            "You failed. Please check your model and re-train\n"
          ]
        }
      ],
      "source": [
        "cls_wise_iou, cls_wise_dice_score = class_wise_metrics(np.argmax(y_true_segments, axis=3), results)\n",
        "\n",
        "average_iou = 0.0\n",
        "for idx, (iou, dice_score) in enumerate(zip(cls_wise_iou[:-1], cls_wise_dice_score[:-1])):\n",
        "  print(\"Digit {}: IOU: {} Dice Score: {}\".format(idx, iou, dice_score))\n",
        "  average_iou += iou\n",
        "\n",
        "grade = average_iou * 10\n",
        "\n",
        "print(\"\\nGrade is \" + str(grade))\n",
        "\n",
        "PASSING_GRADE = 60\n",
        "if (grade>PASSING_GRADE):\n",
        "  print(\"You passed!\")\n",
        "else:\n",
        "  print(\"You failed. Please check your model and re-train\")"
      ]
    },
    {
      "cell_type": "markdown",
      "metadata": {
        "id": "vvw0HLY2kV3w"
      },
      "source": [
        "## Save the Model\n",
        "\n",
        "Once you're satisfied with the results, you can save your model and upload it to the grader in Coursera. Please run all succeeding cells to ensure that you will have a gradable submission. Otherwise, you might get this error message:\n",
        "\n",
        "`There was a problem grading your submission. Check stderr for more details.`\n",
        "\n",
        "First, save the model file in your Colab workspace."
      ]
    },
    {
      "cell_type": "code",
      "execution_count": null,
      "metadata": {},
      "outputs": [],
      "source": [
        "model.save(\"temp_model.keras\")\n",
        "from tensorflow.keras.models import load_model\n",
        "\n",
        "loaded_model = load_model(\"temp_model.keras\")\n",
        "\n"
      ]
    },
    {
      "cell_type": "markdown",
      "metadata": {
        "id": "SuUoVmXBZYqc"
      },
      "source": [
        "Tensorflow releases minor and patch updates every few months ([sometimes quicker](https://pypi.org/project/tensorflow/#history)). Oftentimes, the code and syntax won't change but the newer versions will have a different model definition under the hood. The next cells will convert your newer model to one that the grader can read. You won't have to do this in your personal projects. This is just an extra step for grading."
      ]
    },
    {
      "cell_type": "code",
      "execution_count": null,
      "metadata": {
        "id": "OxpkHjH40s_F"
      },
      "outputs": [
        {
          "name": "stderr",
          "output_type": "stream",
          "text": [
            "ERROR: Could not find a version that satisfies the requirement tensorflow-gpu==2.8.0 (from versions: 2.12.0)\n",
            "ERROR: No matching distribution found for tensorflow-gpu==2.8.0\n"
          ]
        },
        {
          "name": "stdout",
          "output_type": "stream",
          "text": [
            "Requirement already satisfied: keras==2.8.0 in c:\\users\\zefin\\anaconda3\\envs\\my_env\\lib\\site-packages (2.8.0)\n"
          ]
        }
      ],
      "source": [
        "# Install packages for compatibility with the autograder\n",
        "\n",
        "# NOTE: You can safely ignore errors about version incompatibility of\n",
        "# Colab-bundled packages (e.g. xarray, pydantic, etc.)\n",
        "\n",
        "!pip install tensorflow-gpu==2.8.0\n",
        "!pip install keras==2.8.0"
      ]
    },
    {
      "cell_type": "code",
      "execution_count": null,
      "metadata": {
        "id": "7IT8mvo2j8SE"
      },
      "outputs": [],
      "source": [
        "!pip install --upgrade google-auth-oauthlib\n"
      ]
    },
    {
      "cell_type": "markdown",
      "metadata": {
        "id": "bQf0BVmsXIAM"
      },
      "source": [
        "Wait for the cell above to complete. After that, **go to `Runtime > Restart Session` and wait for the kernel to reconnect.** This is necessary so you can reload Tensorflow with the version installed above. Run the next cell to check if you have the correct version. You will get an `AssertionError` if you didn't restart the session."
      ]
    },
    {
      "cell_type": "code",
      "execution_count": null,
      "metadata": {},
      "outputs": [],
      "source": [
        "import tensorflow as tf\n",
        "\n",
        "# Check if you have the correct Tensorflow version\n",
        "assert tf.__version__ == '2.8.0', f'You have TF{tf.__version__}. Please install the grader-compatible Tensorflow and select Runtime > Restart Session'"
      ]
    },
    {
      "cell_type": "markdown",
      "metadata": {
        "id": "kaFHTqWufL9F"
      },
      "source": [
        "If you didn't get an error above, you can finally convert the model."
      ]
    },
    {
      "cell_type": "code",
      "execution_count": null,
      "metadata": {
        "id": "ljeWKuSKYEHE"
      },
      "outputs": [],
      "source": [
        "# Load the model you saved earlier\n",
        "model = tf.keras.models.load_model(\"temp_model.h5\", compile=False)\n",
        "\n",
        "# Save the model with the compatible TF version\n",
        "model.save(\"final_model.h5\")"
      ]
    },
    {
      "cell_type": "markdown",
      "metadata": {
        "id": "vG4JE2JNYGUG"
      },
      "source": [
        "Please look for `final_model.h5` in the File Explorer on the left and download it. Then go back to the Coursera classroom and upload it to the Lab item that points to the autograder of Week 3. Alternatively, you can also use the cell below to download the model.\n",
        "\n"
      ]
    },
    {
      "cell_type": "code",
      "execution_count": null,
      "metadata": {
        "id": "NCd50-pubX_o"
      },
      "outputs": [],
      "source": [
        "# You can also use this cell as a shortcut for downloading your model\n",
        "from google.colab import files\n",
        "files.download(\"final_model.h5\")"
      ]
    },
    {
      "cell_type": "markdown",
      "metadata": {
        "id": "dmyvoAynkgVw"
      },
      "source": [
        "**Congratulations on completing this assignment on image segmentation!**"
      ]
    }
  ],
  "metadata": {
    "accelerator": "GPU",
    "colab": {
      "gpuType": "T4",
      "private_outputs": true,
      "provenance": []
    },
    "kernelspec": {
      "display_name": "Python 3",
      "name": "python3"
    },
    "language_info": {
      "codemirror_mode": {
        "name": "ipython",
        "version": 3
      },
      "file_extension": ".py",
      "mimetype": "text/x-python",
      "name": "python",
      "nbconvert_exporter": "python",
      "pygments_lexer": "ipython3",
      "version": "3.8.18"
    },
    "vscode": {
      "interpreter": {
        "hash": "56d44d6a8424451b5ce45d1ae0b0b7865dc60710e7f74571dd51dd80d7829ee9"
      }
    }
  },
  "nbformat": 4,
  "nbformat_minor": 0
}
